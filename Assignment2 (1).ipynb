{
 "cells": [
  {
   "cell_type": "code",
   "execution_count": 2,
   "id": "2784db8f-c8d0-4ee1-b321-b9627c3de4c9",
   "metadata": {},
   "outputs": [
    {
     "data": {
      "text/plain": [
       "'Multiline comment'"
      ]
     },
     "execution_count": 2,
     "metadata": {},
     "output_type": "execute_result"
    }
   ],
   "source": [
    "#1. We comment code in python by using '#' this.this is also a comment as we used '#' in the beginning. There are two type of comments in pyhton:\n",
    "#Single line comment\n",
    "\"\"\"Multiline comment\"\"\""
   ]
  },
  {
   "cell_type": "code",
   "execution_count": 3,
   "id": "d4768ecf-a23a-4f35-81f3-59d3dc893477",
   "metadata": {},
   "outputs": [
    {
     "data": {
      "text/plain": [
       "'2. In Python, variables are used to store data values. They act as containers for storing information that can be accessed\\nand manipulated throughout the program.Following syntax can be used to declare a variable and assign a value to it.'"
      ]
     },
     "execution_count": 3,
     "metadata": {},
     "output_type": "execute_result"
    }
   ],
   "source": [
    "\"\"\"2. In Python, variables are used to store data values. They act as containers for storing information that can be accessed\n",
    "and manipulated throughout the program.Following syntax can be used to declare a variable and assign a value to it.\"\"\""
   ]
  },
  {
   "cell_type": "code",
   "execution_count": 4,
   "id": "8fdb5153-050a-478b-9540-d8e22374ac10",
   "metadata": {},
   "outputs": [],
   "source": [
    "var=415"
   ]
  },
  {
   "cell_type": "code",
   "execution_count": 6,
   "id": "96f90c69-383e-4863-ad8a-6a20b9b21064",
   "metadata": {},
   "outputs": [],
   "source": [
    "#3. In Python, we can convert one data type to another using type conversion functions,example:"
   ]
  },
  {
   "cell_type": "code",
   "execution_count": 7,
   "id": "43ce0b76-7b73-4edb-b2f6-9221cc1ea63d",
   "metadata": {},
   "outputs": [],
   "source": [
    "a=35\n",
    "b=str(a)\n",
    "c=float(a)"
   ]
  },
  {
   "cell_type": "code",
   "execution_count": 8,
   "id": "ee7ed604-30bd-47b0-8fa7-c07ea4f32eb4",
   "metadata": {},
   "outputs": [
    {
     "data": {
      "text/plain": [
       "'35'"
      ]
     },
     "execution_count": 8,
     "metadata": {},
     "output_type": "execute_result"
    }
   ],
   "source": [
    "b"
   ]
  },
  {
   "cell_type": "code",
   "execution_count": 9,
   "id": "f69732b2-fb7a-4b26-9fa2-03aebb0c4db1",
   "metadata": {},
   "outputs": [
    {
     "data": {
      "text/plain": [
       "35.0"
      ]
     },
     "execution_count": 9,
     "metadata": {},
     "output_type": "execute_result"
    }
   ],
   "source": [
    "c"
   ]
  },
  {
   "cell_type": "code",
   "execution_count": 11,
   "id": "1682bf70-35ae-47ba-ad82-925af473e594",
   "metadata": {},
   "outputs": [
    {
     "data": {
      "text/plain": [
       "'To write and execute a Python script from the command line, you can follow these steps:\\n\\n1.Open a text editor and create a new file. You can use any text editor of your choice, such as Notepad, Sublime Text, or Visual Studio Code.\\n\\n2.Write your Python code in the file. For example, let\\'s create a simple script that prints \"Hello, World!\":\\n\\n3.Save the file with a .py extension. For instance, you can save it as hello.py.\\n\\n4.Open the command prompt or terminal on your operating system.\\n\\n5.Navigate to the directory where you saved your Python script using the cd (change directory) command.\\nFor example, if your script is saved in the Documents folder, you can navigate to it as follows:\\ncd Documents\\n\\n6.Once you are in the correct directory, you can execute the Python script using the python command followed by the script\\'s filename.\\nFor our example, you would run:\\npython hello.py\\nNote: If you have multiple versions of Python installed on your system, you might need to use a specific version by specifying it in the command,\\nsuch as python3 instead of python.\\n\\n7.Press Enter to execute the command. The Python interpreter will run your script, and you should see the output printed to the console:\\nHello, World!'"
      ]
     },
     "execution_count": 11,
     "metadata": {},
     "output_type": "execute_result"
    }
   ],
   "source": [
    "#4.\n",
    "\"\"\"To write and execute a Python script from the command line, you can follow these steps:\n",
    "\n",
    "1.Open a text editor and create a new file. You can use any text editor of your choice, such as Notepad, Sublime Text, or Visual Studio Code.\n",
    "\n",
    "2.Write your Python code in the file. For example, let's create a simple script that prints \"Hello, World!\":\n",
    "\n",
    "3.Save the file with a .py extension. For instance, you can save it as hello.py.\n",
    "\n",
    "4.Open the command prompt or terminal on your operating system.\n",
    "\n",
    "5.Navigate to the directory where you saved your Python script using the cd (change directory) command.\n",
    "For example, if your script is saved in the Documents folder, you can navigate to it as follows:\n",
    "cd Documents\n",
    "\n",
    "6.Once you are in the correct directory, you can execute the Python script using the python command followed by the script's filename.\n",
    "For our example, you would run:\n",
    "python hello.py\n",
    "Note: If you have multiple versions of Python installed on your system, you might need to use a specific version by specifying it in the command,\n",
    "such as python3 instead of python.\n",
    "\n",
    "7.Press Enter to execute the command. The Python interpreter will run your script, and you should see the output printed to the console:\n",
    "Hello, World!\"\"\""
   ]
  },
  {
   "cell_type": "code",
   "execution_count": 12,
   "id": "7c9f5b9d-8779-45a1-b77d-3d43bb77bfe5",
   "metadata": {},
   "outputs": [
    {
     "data": {
      "text/plain": [
       "[2, 3]"
      ]
     },
     "execution_count": 12,
     "metadata": {},
     "output_type": "execute_result"
    }
   ],
   "source": [
    "#5.\n",
    "my_list=[1,2,3,4,5]\n",
    "my_list[1:3]"
   ]
  },
  {
   "cell_type": "code",
   "execution_count": 14,
   "id": "6f2a4a85-2914-4bc0-b96b-d0b12b48afa9",
   "metadata": {},
   "outputs": [],
   "source": [
    "#6.A number that comprises both a real part and an imaginary part,only j variableis used as imaginary part in python,\n",
    "a=5+7j"
   ]
  },
  {
   "cell_type": "code",
   "execution_count": 15,
   "id": "632ec75e-737e-4aff-8440-f76abc40b415",
   "metadata": {},
   "outputs": [
    {
     "data": {
      "text/plain": [
       "(5+7j)"
      ]
     },
     "execution_count": 15,
     "metadata": {},
     "output_type": "execute_result"
    }
   ],
   "source": [
    "a"
   ]
  },
  {
   "cell_type": "code",
   "execution_count": 16,
   "id": "d4720d52-5a84-4f29-851a-fb57bbc9e151",
   "metadata": {},
   "outputs": [],
   "source": [
    "#7.\n",
    "age=25"
   ]
  },
  {
   "cell_type": "code",
   "execution_count": 17,
   "id": "416ef4cd-9743-43a0-9d5e-69a4f7fe48a2",
   "metadata": {},
   "outputs": [
    {
     "data": {
      "text/plain": [
       "float"
      ]
     },
     "execution_count": 17,
     "metadata": {},
     "output_type": "execute_result"
    }
   ],
   "source": [
    "#8.\n",
    "price=9.99\n",
    "type(price)"
   ]
  },
  {
   "cell_type": "code",
   "execution_count": 18,
   "id": "10c46b3c-9989-4365-875f-0edac67b8d3b",
   "metadata": {},
   "outputs": [
    {
     "name": "stdout",
     "output_type": "stream",
     "text": [
      "Krish Rajput\n"
     ]
    }
   ],
   "source": [
    "#9.\n",
    "name=\"Krish Rajput\"\n",
    "print(name)"
   ]
  },
  {
   "cell_type": "code",
   "execution_count": 22,
   "id": "889aaea8-d09a-49e5-9203-841cf84fe1b4",
   "metadata": {},
   "outputs": [
    {
     "data": {
      "text/plain": [
       "'World'"
      ]
     },
     "execution_count": 22,
     "metadata": {},
     "output_type": "execute_result"
    }
   ],
   "source": [
    "#10.\n",
    "s=\"Hello, World!\"\n",
    "s[7:12:1]"
   ]
  },
  {
   "cell_type": "code",
   "execution_count": 24,
   "id": "dfac67f9-5bd8-4b2c-a1fd-224646e44d59",
   "metadata": {},
   "outputs": [],
   "source": [
    "#11.\n",
    "is_student = False"
   ]
  },
  {
   "cell_type": "code",
   "execution_count": null,
   "id": "a80377b9-6fff-43aa-aaa0-309b20d6dd08",
   "metadata": {},
   "outputs": [],
   "source": []
  }
 ],
 "metadata": {
  "kernelspec": {
   "display_name": "Python 3 (ipykernel)",
   "language": "python",
   "name": "python3"
  },
  "language_info": {
   "codemirror_mode": {
    "name": "ipython",
    "version": 3
   },
   "file_extension": ".py",
   "mimetype": "text/x-python",
   "name": "python",
   "nbconvert_exporter": "python",
   "pygments_lexer": "ipython3",
   "version": "3.10.8"
  }
 },
 "nbformat": 4,
 "nbformat_minor": 5
}
