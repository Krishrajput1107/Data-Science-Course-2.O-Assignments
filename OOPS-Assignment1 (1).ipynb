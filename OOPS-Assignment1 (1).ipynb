{
 "cells": [
  {
   "cell_type": "markdown",
   "id": "34e17dc7-c883-4c69-90cf-40cc039c2455",
   "metadata": {},
   "source": [
    "1.In object-oriented programming (OOP), a class is a blueprint or a template that defines the characteristics (attributes) and behaviors (methods) that an object of that class will have. It provides a structure for creating objects and defines the initial state and behavior common to all objects of that class. In simpler terms, a class can be thought of as a blueprint or a set of instructions for creating objects.\n",
    "\n",
    "An object, on the other hand, is an instance of a class. It represents a specific entity or thing that can have its own unique state and behavior, as defined by the class it belongs to. Objects are created based on the structure defined by the class and can interact with each other by invoking methods and accessing attributes.\n",
    "\n",
    "Let's consider an example to illustrate this concept. Suppose we have a class called \"Car\" that represents a generic car. The class \"Car\" may have attributes such as \"color,\" \"brand,\" and \"year,\" which define the state or characteristics of a car. It may also have methods such as \"start_engine,\" \"accelerate,\" and \"stop,\" which define the behavior or actions a car can perform."
   ]
  },
  {
   "cell_type": "markdown",
   "id": "caa47f54-a75e-4b39-806b-80c3ade44fe0",
   "metadata": {},
   "source": [
    "2.The four pillars of OOP are:\n",
    "\n",
    "Encapsulation\n",
    "Inheritance\n",
    "Polymorphism\n",
    "Abstraction"
   ]
  },
  {
   "cell_type": "markdown",
   "id": "dcc3fc86-48a1-4ef1-9979-d1f8a6ba2333",
   "metadata": {},
   "source": [
    "3.The __init__() function, also known as the constructor, is a special method used in object-oriented programming languages like Python. It is automatically called when an object is created from a class. The primary purpose of the __init__() function is to initialize the attributes (state) of an object.\n",
    "\n",
    "Here's an example to illustrate the usage of the __init__() function:"
   ]
  },
  {
   "cell_type": "code",
   "execution_count": 2,
   "id": "9972370c-749e-49b6-a646-db095f9ce61b",
   "metadata": {},
   "outputs": [
    {
     "name": "stdout",
     "output_type": "stream",
     "text": [
      "John\n",
      "30\n",
      "Hello, my name is John and I am 25 years old.\n",
      "Hello, my name is Alice and I am 30 years old.\n"
     ]
    }
   ],
   "source": [
    "class Person:\n",
    "    def __init__(self, name, age):\n",
    "        self.name = name\n",
    "        self.age = age\n",
    "\n",
    "    def greet(self):\n",
    "        print(f\"Hello, my name is {self.name} and I am {self.age} years old.\")\n",
    "\n",
    "person1 = Person(\"John\", 25)\n",
    "person2 = Person(\"Alice\", 30)\n",
    "\n",
    "print(person1.name)\n",
    "print(person2.age)\n",
    "person1.greet()\n",
    "person2.greet()"
   ]
  },
  {
   "cell_type": "markdown",
   "id": "f5bae358-5cf5-439c-aab9-c3f9d037695d",
   "metadata": {},
   "source": [
    "4.In object-oriented programming (OOP), the self parameter is used to refer to the instance of a class within the class itself. It is a convention used in languages like Python to represent the instance object itself.\n",
    "\n",
    "The use of self allows instance methods to access and manipulate the attributes and methods of the object to which they belong. When a method is called on an object, the self parameter automatically refers to that specific instance of the class."
   ]
  },
  {
   "cell_type": "markdown",
   "id": "73fd526f-110d-4819-83c5-94a2001de20e",
   "metadata": {},
   "source": [
    "5.Inheritance is a fundamental concept in object-oriented programming (OOP) that allows a class to inherit attributes and methods from another class. It establishes a parent-child relationship between classes, where the child class (subclass) can inherit and extend the properties and behaviors of the parent class (superclass). Inheritance promotes code reuse, modularity, and hierarchical relationships among classes.\n",
    "There are several types of inheritance:\n",
    "\n",
    "Single Inheritance: Single inheritance involves a subclass inheriting from a single superclass. It is the most basic form of inheritance.\n",
    "Example:"
   ]
  },
  {
   "cell_type": "code",
   "execution_count": 5,
   "id": "be4aba15-129c-4cca-85f7-599ad157e57b",
   "metadata": {},
   "outputs": [
    {
     "name": "stdout",
     "output_type": "stream",
     "text": [
      "Ford\n",
      "Car is accelerating.\n"
     ]
    }
   ],
   "source": [
    "class Vehicle:\n",
    "    def __init__(self, brand):\n",
    "        self.brand = brand\n",
    "\n",
    "    def get_brand(self):\n",
    "        return self.brand\n",
    "\n",
    "class Car(Vehicle):\n",
    "    def accelerate(self):\n",
    "        print(\"Car is accelerating.\")\n",
    "\n",
    "car = Car(\"Ford\")\n",
    "print(car.get_brand())  \n",
    "car.accelerate()  "
   ]
  },
  {
   "cell_type": "markdown",
   "id": "e24866f9-40f3-4484-8a33-f436ed2c7609",
   "metadata": {},
   "source": [
    "Multiple Inheritance: Multiple inheritance allows a subclass to inherit from multiple superclasses. It enables a class to combine characteristics and behaviors from multiple sources.\n",
    "Example:"
   ]
  },
  {
   "cell_type": "code",
   "execution_count": 4,
   "id": "4462f36f-53d2-4ddb-aca8-b3e889c868f8",
   "metadata": {},
   "outputs": [
    {
     "name": "stdout",
     "output_type": "stream",
     "text": [
      "Flying...\n",
      "Swimming...\n"
     ]
    }
   ],
   "source": [
    "class Flyer:\n",
    "    def fly(self):\n",
    "        print(\"Flying...\")\n",
    "\n",
    "class Swimmer:\n",
    "    def swim(self):\n",
    "        print(\"Swimming...\")\n",
    "\n",
    "class Duck(Flyer, Swimmer):\n",
    "    pass\n",
    "\n",
    "duck = Duck()\n",
    "duck.fly()  \n",
    "duck.swim()"
   ]
  },
  {
   "cell_type": "markdown",
   "id": "0af1f672-79b4-4249-a819-3fced65ea234",
   "metadata": {},
   "source": [
    "Multilevel Inheritance: Multilevel inheritance involves a subclass inheriting from another subclass, creating a hierarchical chain of inheritance.\n",
    "Example:"
   ]
  },
  {
   "cell_type": "code",
   "execution_count": 6,
   "id": "8f7d94d5-b4ab-44df-b3c0-1f86c92edb02",
   "metadata": {},
   "outputs": [
    {
     "name": "stdout",
     "output_type": "stream",
     "text": [
      "Breathing...\n",
      "Feeding milk...\n",
      "Barking...\n"
     ]
    }
   ],
   "source": [
    "class Animal:\n",
    "    def breathe(self):\n",
    "        print(\"Breathing...\")\n",
    "\n",
    "class Mammal(Animal):\n",
    "    def feed_milk(self):\n",
    "        print(\"Feeding milk...\")\n",
    "\n",
    "class Dog(Mammal):\n",
    "    def bark(self):\n",
    "        print(\"Barking...\")\n",
    "\n",
    "dog = Dog()\n",
    "dog.breathe()    \n",
    "dog.feed_milk()  \n",
    "dog.bark()       \n"
   ]
  },
  {
   "cell_type": "markdown",
   "id": "14d22913-2ca2-4e4f-80be-e50110cb8f69",
   "metadata": {},
   "source": [
    "Hierarchical Inheritance: Hierarchical inheritance involves multiple subclasses inheriting from a single superclass. It allows different subclasses to inherit common properties and behaviors from a shared superclass.\n",
    "Example"
   ]
  },
  {
   "cell_type": "code",
   "execution_count": 7,
   "id": "4fafe622-6dab-4d54-a5cf-ea63d024e786",
   "metadata": {},
   "outputs": [
    {
     "name": "stdout",
     "output_type": "stream",
     "text": [
      "Drawing circle...\n",
      "Drawing rectangle...\n"
     ]
    }
   ],
   "source": [
    "class Shape:\n",
    "    def draw(self):\n",
    "        print(\"Drawing shape...\")\n",
    "\n",
    "class Circle(Shape):\n",
    "    def draw(self):\n",
    "        print(\"Drawing circle...\")\n",
    "\n",
    "class Rectangle(Shape):\n",
    "    def draw(self):\n",
    "        print(\"Drawing rectangle...\")\n",
    "\n",
    "circle = Circle()\n",
    "rectangle = Rectangle()\n",
    "\n",
    "circle.draw()   \n",
    "rectangle.draw()"
   ]
  },
  {
   "cell_type": "code",
   "execution_count": 8,
   "id": "fc97e3a9-6f59-4bbf-992e-92a593140926",
   "metadata": {},
   "outputs": [
    {
     "name": "stdout",
     "output_type": "stream",
     "text": [
      "finished the assignment\n"
     ]
    }
   ],
   "source": [
    "print(\"finished the assignment\")"
   ]
  },
  {
   "cell_type": "code",
   "execution_count": null,
   "id": "9d8978e0-6c5e-4aee-8143-d73422680da3",
   "metadata": {},
   "outputs": [],
   "source": []
  }
 ],
 "metadata": {
  "kernelspec": {
   "display_name": "Python 3 (ipykernel)",
   "language": "python",
   "name": "python3"
  },
  "language_info": {
   "codemirror_mode": {
    "name": "ipython",
    "version": 3
   },
   "file_extension": ".py",
   "mimetype": "text/x-python",
   "name": "python",
   "nbconvert_exporter": "python",
   "pygments_lexer": "ipython3",
   "version": "3.10.8"
  }
 },
 "nbformat": 4,
 "nbformat_minor": 5
}
