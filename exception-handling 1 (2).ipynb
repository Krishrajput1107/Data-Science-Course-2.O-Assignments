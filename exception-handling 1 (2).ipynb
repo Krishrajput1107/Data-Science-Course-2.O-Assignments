{
 "cells": [
  {
   "cell_type": "markdown",
   "id": "f74adef3-e444-4dd9-9f45-20ab95b8ed33",
   "metadata": {},
   "source": [
    "1.Exceptions in Python are events that occur during program execution, representing errors or unexpected situations. They can be handled using exception handling mechanisms. Some common exceptions include ZeroDivisionError, TypeError, ValueError, FileNotFoundError, and IndexError.\n",
    "\n",
    "Syntax errors, on the other hand, are detected by the Python interpreter during the parsing phase and indicate mistakes in the code's structure or formatting. They need to be fixed before the code can be executed."
   ]
  },
  {
   "cell_type": "markdown",
   "id": "fb0a0160-228c-453e-a0b7-e980f5e05cdd",
   "metadata": {},
   "source": [
    "2.When an exception is not handled in Python, it leads to an unhandled exception error, which interrupts the normal flow of the program and causes it to terminate abruptly. The error message provides information about the exception that occurred, making it easier to identify and debug the issue.\n",
    "\n",
    "Here's an example to illustrate what happens when an exception is not handled:"
   ]
  },
  {
   "cell_type": "code",
   "execution_count": 1,
   "id": "5b1022f7-dbe3-42f1-87bd-ce85ee43237e",
   "metadata": {},
   "outputs": [
    {
     "name": "stdout",
     "output_type": "stream",
     "text": [
      "Error: Division by zero!\n"
     ]
    }
   ],
   "source": [
    "def divide_numbers(a, b):\n",
    "    result = a / b\n",
    "    return result\n",
    "\n",
    "# Example 1: Exception handled\n",
    "try:\n",
    "    result = divide_numbers(10, 0)\n",
    "    print(\"Result:\", result)\n",
    "except ZeroDivisionError:\n",
    "    print(\"Error: Division by zero!\")"
   ]
  },
  {
   "cell_type": "markdown",
   "id": "c99da9fe-1fa2-4a36-b093-a7fc69806661",
   "metadata": {},
   "source": [
    "In the above code, the divide_numbers() function attempts to divide a by b. If b is zero, it will raise a ZeroDivisionError exception. However, the code is enclosed in a try-except block, where the exception is explicitly handled.In this case, the exception is caught by the except block, and an error message is printed. The program can continue its execution after handling the exception.\n",
    "\n",
    "Now, let's see what happens when an exception is not handled:"
   ]
  },
  {
   "cell_type": "code",
   "execution_count": 2,
   "id": "fc0d18c5-b0d3-4067-ae24-f37723aaaa3a",
   "metadata": {},
   "outputs": [
    {
     "ename": "ZeroDivisionError",
     "evalue": "division by zero",
     "output_type": "error",
     "traceback": [
      "\u001b[0;31m---------------------------------------------------------------------------\u001b[0m",
      "\u001b[0;31mZeroDivisionError\u001b[0m                         Traceback (most recent call last)",
      "Cell \u001b[0;32mIn[2], line 6\u001b[0m\n\u001b[1;32m      3\u001b[0m     \u001b[38;5;28;01mreturn\u001b[39;00m result\n\u001b[1;32m      5\u001b[0m \u001b[38;5;66;03m# Example 2: Exception not handled\u001b[39;00m\n\u001b[0;32m----> 6\u001b[0m result \u001b[38;5;241m=\u001b[39m \u001b[43mdivide_numbers\u001b[49m\u001b[43m(\u001b[49m\u001b[38;5;241;43m10\u001b[39;49m\u001b[43m,\u001b[49m\u001b[43m \u001b[49m\u001b[38;5;241;43m0\u001b[39;49m\u001b[43m)\u001b[49m\n\u001b[1;32m      7\u001b[0m \u001b[38;5;28mprint\u001b[39m(\u001b[38;5;124m\"\u001b[39m\u001b[38;5;124mResult:\u001b[39m\u001b[38;5;124m\"\u001b[39m, result)\n",
      "Cell \u001b[0;32mIn[2], line 2\u001b[0m, in \u001b[0;36mdivide_numbers\u001b[0;34m(a, b)\u001b[0m\n\u001b[1;32m      1\u001b[0m \u001b[38;5;28;01mdef\u001b[39;00m \u001b[38;5;21mdivide_numbers\u001b[39m(a, b):\n\u001b[0;32m----> 2\u001b[0m     result \u001b[38;5;241m=\u001b[39m \u001b[43ma\u001b[49m\u001b[43m \u001b[49m\u001b[38;5;241;43m/\u001b[39;49m\u001b[43m \u001b[49m\u001b[43mb\u001b[49m\n\u001b[1;32m      3\u001b[0m     \u001b[38;5;28;01mreturn\u001b[39;00m result\n",
      "\u001b[0;31mZeroDivisionError\u001b[0m: division by zero"
     ]
    }
   ],
   "source": [
    "def divide_numbers(a, b):\n",
    "    result = a / b\n",
    "    return result\n",
    "\n",
    "# Example 2: Exception not handled\n",
    "result = divide_numbers(10, 0)\n",
    "print(\"Result:\", result)"
   ]
  },
  {
   "cell_type": "markdown",
   "id": "f691c5af-e038-40dc-b52d-a4b05df50950",
   "metadata": {},
   "source": [
    "In Example 2, the divide_numbers() function is called with arguments 10 and 0, causing a ZeroDivisionError since division by zero is not allowed. However, there is no try-except block to catch this exception.\n",
    "As shown in the output, an unhandled exception causes the program to terminate, displaying a traceback message. It highlights the specific line (File \"example.py\", line Y) where the exception occurred and the type of exception (ZeroDivisionError: division by zero).\n",
    "\n",
    "In summary, when an exception is not handled, it triggers an unhandled exception error, which halts the program's execution and displays a traceback message indicating the type of exception and the line where it occurred."
   ]
  },
  {
   "cell_type": "markdown",
   "id": "ecc965a4-93fb-476c-90b4-6e2777988812",
   "metadata": {},
   "source": [
    "3.the key statements used for exception handling in Python are:\n",
    "\n",
    "try: This block contains the code that may raise an exception.\n",
    "except: This block catches and handles exceptions that occur within the try block.\n",
    "else: This block is executed if no exceptions occur within the try block.\n",
    "finally: This block is always executed, regardless of whether an exception occurred or not. It is used for cleanup operations.\n",
    "raise: This statement manually raises an exception. Here's an example that demonstrates the use of try, except, and finally statements to handle exceptions:"
   ]
  },
  {
   "cell_type": "code",
   "execution_count": 4,
   "id": "e69c4f98-fcb1-4665-85b5-1a6df0f70430",
   "metadata": {},
   "outputs": [
    {
     "name": "stdout",
     "output_type": "stream",
     "text": [
      "Division result: 5.0\n",
      "Division operation completed.\n",
      "Error: Division by zero!\n",
      "Division operation completed.\n"
     ]
    }
   ],
   "source": [
    "def divide_numbers(a, b):\n",
    "    try:\n",
    "        result = a / b\n",
    "        print(\"Division result:\", result)\n",
    "    except ZeroDivisionError:\n",
    "        print(\"Error: Division by zero!\")\n",
    "    finally:\n",
    "        print(\"Division operation completed.\")\n",
    "divide_numbers(10, 2)\n",
    "divide_numbers(10, 0)\n"
   ]
  },
  {
   "cell_type": "markdown",
   "id": "d5f51d08-baa9-4be7-a5c5-9e04298e029e",
   "metadata": {},
   "source": [
    "4.try, else, finally, and raise statements with an example:\n",
    "\n"
   ]
  },
  {
   "cell_type": "code",
   "execution_count": 5,
   "id": "7fb9f4f8-08bc-403f-988e-008e09879113",
   "metadata": {},
   "outputs": [
    {
     "name": "stdout",
     "output_type": "stream",
     "text": [
      "Division result: 5.0\n",
      "Division operation completed.\n",
      "Error: Division by zero!\n",
      "Division operation completed.\n",
      "Division result: 5.0\n",
      "Division operation completed.\n",
      "Error: Custom exception raised.\n"
     ]
    }
   ],
   "source": [
    "def divide_numbers(a, b):\n",
    "    try:\n",
    "        result = a / b\n",
    "    except ZeroDivisionError:\n",
    "        print(\"Error: Division by zero!\")\n",
    "    else:\n",
    "        print(\"Division result:\", result)\n",
    "    finally:\n",
    "        print(\"Division operation completed.\")\n",
    "\n",
    "# Example 1:\n",
    "divide_numbers(10, 2)\n",
    "\n",
    "# Example 2:\n",
    "divide_numbers(10, 0)\n",
    "\n",
    "# Example 3:\n",
    "try:\n",
    "    divide_numbers(10, 2)\n",
    "    raise ValueError(\"Custom exception raised.\")\n",
    "except ValueError as e:\n",
    "    print(\"Error:\", str(e))\n"
   ]
  },
  {
   "cell_type": "markdown",
   "id": "b53fb0c5-d2e7-4feb-b850-ad67fa464c84",
   "metadata": {},
   "source": [
    "5.Custom exceptions in Python are user-defined exception classes that inherit from the built-in Exception class or its subclasses. These exceptions are created to handle specific error conditions or exceptional situations that are not adequately represented by the existing built-in exception types.\n",
    "\n",
    "Here's an example to explain the need for custom exceptions:"
   ]
  },
  {
   "cell_type": "code",
   "execution_count": 6,
   "id": "1aac8584-b601-4bac-93f0-1e9329d9faea",
   "metadata": {},
   "outputs": [
    {
     "name": "stdout",
     "output_type": "stream",
     "text": [
      "Cannot withdraw 1500. Insufficient balance. Available balance: 1000\n"
     ]
    }
   ],
   "source": [
    "class WithdrawalError(Exception):\n",
    "    def __init__(self, balance, amount):\n",
    "        self.balance = balance\n",
    "        self.amount = amount\n",
    "\n",
    "    def __str__(self):\n",
    "        return f\"Cannot withdraw {self.amount}. Insufficient balance. Available balance: {self.balance}\"\n",
    "\n",
    "\n",
    "def withdraw_from_account(balance, amount):\n",
    "    try:\n",
    "        if amount > balance:\n",
    "            raise WithdrawalError(balance, amount)\n",
    "        else:\n",
    "            balance -= amount\n",
    "            print(f\"Withdrawn {amount}. Remaining balance: {balance}\")\n",
    "    except WithdrawalError as e:\n",
    "        print(str(e))\n",
    "\n",
    "account_balance = 1000\n",
    "withdraw_amount = 1500\n",
    "withdraw_from_account(account_balance, withdraw_amount)\n"
   ]
  },
  {
   "cell_type": "markdown",
   "id": "06aa52e0-c017-4e5d-9756-6bfa1e92a3fb",
   "metadata": {},
   "source": [
    "Using custom exceptions provides several benefits:\n",
    "\n",
    "Improved Readability: Custom exceptions give meaningful names to exceptional situations, making the code more readable and self-explanatory. It helps in understanding the intent and nature of the exceptional condition being handled.\n",
    "\n",
    "Precise Error Handling: Custom exceptions allow you to handle specific exceptional scenarios separately, providing fine-grained control over error handling. You can differentiate between different types of errors and take appropriate actions based on them.\n",
    "\n",
    "Modularity and Reusability: Custom exceptions promote modularity and code reuse. You can define custom exceptions in a separate module and reuse them across multiple parts of your codebase. This helps in maintaining consistency and reducing redundancy."
   ]
  },
  {
   "cell_type": "markdown",
   "id": "71c79555-9fce-4a65-bb16-0ac33e2c71fd",
   "metadata": {},
   "source": [
    "6."
   ]
  },
  {
   "cell_type": "code",
   "execution_count": 8,
   "id": "47645e3f-5d8c-4611-aac1-e2e6eb968beb",
   "metadata": {},
   "outputs": [
    {
     "name": "stdout",
     "output_type": "stream",
     "text": [
      "Invalid input: abc\n"
     ]
    }
   ],
   "source": [
    "class InvalidInputError(Exception):\n",
    "    def __init__(self, input_value):\n",
    "        self.input_value = input_value\n",
    "\n",
    "    def __str__(self):\n",
    "        return f\"Invalid input: {self.input_value}\"\n",
    "\n",
    "\n",
    "def process_input(value):\n",
    "    try:\n",
    "        if not isinstance(value, int):\n",
    "            raise InvalidInputError(value)\n",
    "        else:\n",
    "            print(\"Input is valid.\")\n",
    "    except InvalidInputError as e:\n",
    "        print(str(e))\n",
    "input_value = \"abc\"\n",
    "process_input(input_value)\n"
   ]
  },
  {
   "cell_type": "code",
   "execution_count": 9,
   "id": "c3189cd1-ea28-41ed-b49a-e99815d877f3",
   "metadata": {},
   "outputs": [
    {
     "name": "stdout",
     "output_type": "stream",
     "text": [
      "finished assignment\n"
     ]
    }
   ],
   "source": [
    "#7.\n",
    "print(\"finished assignment\")"
   ]
  },
  {
   "cell_type": "code",
   "execution_count": null,
   "id": "506a6232-1594-4673-b010-a8a6c9f2709f",
   "metadata": {},
   "outputs": [],
   "source": []
  }
 ],
 "metadata": {
  "kernelspec": {
   "display_name": "Python 3 (ipykernel)",
   "language": "python",
   "name": "python3"
  },
  "language_info": {
   "codemirror_mode": {
    "name": "ipython",
    "version": 3
   },
   "file_extension": ".py",
   "mimetype": "text/x-python",
   "name": "python",
   "nbconvert_exporter": "python",
   "pygments_lexer": "ipython3",
   "version": "3.10.8"
  }
 },
 "nbformat": 4,
 "nbformat_minor": 5
}
