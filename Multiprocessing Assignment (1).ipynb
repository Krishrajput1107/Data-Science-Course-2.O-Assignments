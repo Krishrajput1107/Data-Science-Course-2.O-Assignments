{
 "cells": [
  {
   "cell_type": "markdown",
   "id": "adc587b1-342f-4cf0-92aa-a69e02725b35",
   "metadata": {},
   "source": [
    "1.Multiprocessing in Python allows programs to utilize multiple processors or CPU cores for concurrent execution. It provides true parallelism by creating multiple processes, each with its own memory space. Multiprocessing offers improved performance for computationally intensive tasks, enables parallel execution, provides isolation and fault tolerance, allows for efficient resource management, and simplifies synchronization. It is particularly useful for tasks that can be divided into independent sub-tasks and benefit from parallel processing."
   ]
  },
  {
   "cell_type": "markdown",
   "id": "89bde23b-df88-493f-bb31-2c5205231b92",
   "metadata": {},
   "source": [
    "2.Execution Model: Multiprocessing creates multiple processes with independent memory spaces, achieving true parallelism by utilizing multiple CPU cores. Multithreading creates multiple threads within a single process, allowing concurrent execution but typically utilizing a single CPU core.\n",
    "\n",
    "Memory: Multiprocessing provides memory isolation between processes, while multithreading shares the same memory space among threads.\n",
    "\n",
    "Synchronization: Multiprocessing requires explicit inter-process communication mechanisms for synchronization, while multithreading uses synchronization primitives for coordination within shared memory.\n",
    "\n",
    "Complexity: Multiprocessing is generally more complex due to inter-process communication and managing multiple processes. Multithreading is simpler as threads share memory space and have less overhead.\n",
    "\n",
    "Resource Utilization: Multiprocessing maximizes resource utilization by utilizing multiple CPU cores, while multithreading may not fully utilize all available cores as it typically runs on a single core."
   ]
  },
  {
   "cell_type": "code",
   "execution_count": 5,
   "id": "4a64986a-98ee-4676-b0dd-7338caaa5b99",
   "metadata": {},
   "outputs": [
    {
     "name": "stdout",
     "output_type": "stream",
     "text": [
      "This is a child process.\n",
      "This is the main process.\n"
     ]
    }
   ],
   "source": [
    "#3.\n",
    "import multiprocessing\n",
    "\n",
    "def process_function():\n",
    "    print(\"This is a child process.\")\n",
    "\n",
    "if __name__ == \"__main__\":\n",
    "    process = multiprocessing.Process(target=process_function)\n",
    "    process.start()\n",
    "    process.join()\n",
    "    print(\"This is the main process.\")\n"
   ]
  },
  {
   "cell_type": "markdown",
   "id": "b8ba9379-3c6f-4bfb-b4b3-6dce28c4c916",
   "metadata": {},
   "source": [
    "4.A multiprocessing pool in Python is a collection of worker processes used to distribute and parallelize task execution across multiple CPUs or CPU cores. It is implemented using the Pool class from the multiprocessing module. The main purpose of a multiprocessing pool is to achieve parallelism and improve performance for computationally intensive or I/O-bound tasks. It enables parallel execution, divides work among processes, utilizes resources efficiently, and reduces overall execution time."
   ]
  },
  {
   "cell_type": "code",
   "execution_count": 6,
   "id": "b6edb51c-1a30-4fb6-8138-1c96061083bb",
   "metadata": {},
   "outputs": [
    {
     "name": "stdout",
     "output_type": "stream",
     "text": [
      "Results: [1, 4, 9, 16, 25]\n"
     ]
    }
   ],
   "source": [
    "#5.\n",
    "import multiprocessing\n",
    "\n",
    "def process_function(number):\n",
    "    result = number ** 2\n",
    "    return result\n",
    "\n",
    "if __name__ == \"__main__\":\n",
    "    pool = multiprocessing.Pool(processes=4)\n",
    "    numbers = [1, 2, 3, 4, 5]\n",
    "    results = pool.map(process_function, numbers)\n",
    "    pool.close()\n",
    "    pool.join()\n",
    "    print(\"Results:\", results)\n"
   ]
  },
  {
   "cell_type": "code",
   "execution_count": 7,
   "id": "bf7ade08-cfad-4950-bd22-7bc288f2c53a",
   "metadata": {},
   "outputs": [
    {
     "name": "stdout",
     "output_type": "stream",
     "text": [
      "Process 1printsProcess  2  Processprints1  \n",
      "32 \n",
      "Processprints  34\n",
      " prints 4\n"
     ]
    }
   ],
   "source": [
    "#6.\n",
    "import multiprocessing\n",
    "\n",
    "def print_number(number):\n",
    "    print(\"Process\", number, \"prints\", number)\n",
    "\n",
    "if __name__ == \"__main__\":\n",
    "    processes = []\n",
    "    numbers = [1, 2, 3, 4]\n",
    "\n",
    "    for number in numbers:\n",
    "        process = multiprocessing.Process(target=print_number, args=(number,))\n",
    "        processes.append(process)\n",
    "        process.start()\n",
    "\n",
    "    for process in processes:\n",
    "        process.join()\n"
   ]
  },
  {
   "cell_type": "code",
   "execution_count": 8,
   "id": "30e230c7-acd8-49e1-9baf-5ab5a995cfb6",
   "metadata": {},
   "outputs": [
    {
     "name": "stdout",
     "output_type": "stream",
     "text": [
      "finished the assignment\n"
     ]
    }
   ],
   "source": [
    "print(\"finished the assignment\")"
   ]
  },
  {
   "cell_type": "code",
   "execution_count": null,
   "id": "54cb2c17-2bcd-418d-a46f-c45889b534f1",
   "metadata": {},
   "outputs": [],
   "source": []
  }
 ],
 "metadata": {
  "kernelspec": {
   "display_name": "Python 3 (ipykernel)",
   "language": "python",
   "name": "python3"
  },
  "language_info": {
   "codemirror_mode": {
    "name": "ipython",
    "version": 3
   },
   "file_extension": ".py",
   "mimetype": "text/x-python",
   "name": "python",
   "nbconvert_exporter": "python",
   "pygments_lexer": "ipython3",
   "version": "3.10.8"
  }
 },
 "nbformat": 4,
 "nbformat_minor": 5
}
