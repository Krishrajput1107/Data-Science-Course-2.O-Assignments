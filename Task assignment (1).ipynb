{
 "cells": [
  {
   "cell_type": "code",
   "execution_count": 13,
   "id": "56bc4d3e-f783-4bab-b8fb-2cfac445218e",
   "metadata": {},
   "outputs": [],
   "source": [
    "#1\n",
    "class vehicle:\n",
    "    def __init__(self,name_of_vehicle, max_speed,average_of_vehicle):\n",
    "        self.name_of_vehicle=name_of_vehicle\n",
    "        self.max_speed=max_speed\n",
    "        self.average_of_vehicle=average_of_vehicle"
   ]
  },
  {
   "cell_type": "code",
   "execution_count": 14,
   "id": "6753c00c-eaa3-4624-8631-161134388f19",
   "metadata": {},
   "outputs": [],
   "source": [
    "car=vehicle(\"Tarzan\",120,40)"
   ]
  },
  {
   "cell_type": "code",
   "execution_count": 15,
   "id": "4fbcbfa5-d4c6-4f0a-9261-718b8206d68d",
   "metadata": {},
   "outputs": [
    {
     "data": {
      "text/plain": [
       "'Tarzan'"
      ]
     },
     "execution_count": 15,
     "metadata": {},
     "output_type": "execute_result"
    }
   ],
   "source": [
    "car.name_of_vehicle"
   ]
  },
  {
   "cell_type": "code",
   "execution_count": 16,
   "id": "305aa0e2-5409-4bcb-8727-7fef85f2bd69",
   "metadata": {},
   "outputs": [
    {
     "data": {
      "text/plain": [
       "120"
      ]
     },
     "execution_count": 16,
     "metadata": {},
     "output_type": "execute_result"
    }
   ],
   "source": [
    "car.max_speed"
   ]
  },
  {
   "cell_type": "code",
   "execution_count": 17,
   "id": "19699183-0191-44f8-ab20-b6486d232039",
   "metadata": {},
   "outputs": [
    {
     "data": {
      "text/plain": [
       "40"
      ]
     },
     "execution_count": 17,
     "metadata": {},
     "output_type": "execute_result"
    }
   ],
   "source": [
    "car.average_of_vehicle"
   ]
  },
  {
   "cell_type": "code",
   "execution_count": 19,
   "id": "bd57d152-1dd6-4678-bb88-f90d34f0bfe5",
   "metadata": {},
   "outputs": [],
   "source": [
    "#2.\n",
    "class Car(vehicle):\n",
    "    def seating_capacity(self, capacity):\n",
    "        return f\"The {self.name_of_vehicle} has a seating capacity of {capacity} people.\""
   ]
  },
  {
   "cell_type": "code",
   "execution_count": 20,
   "id": "e39c6c6b-5f05-422f-87ca-71f759b8a7d1",
   "metadata": {},
   "outputs": [
    {
     "name": "stdout",
     "output_type": "stream",
     "text": [
      "The Sedan has a seating capacity of 5 people.\n"
     ]
    }
   ],
   "source": [
    "car = Car(\"Sedan\", 180, 4)\n",
    "print(car.seating_capacity(5))"
   ]
  },
  {
   "cell_type": "markdown",
   "id": "cae35b95-0855-41d4-b587-a1ceaea17837",
   "metadata": {},
   "source": [
    "#3.\n",
    "Multiple inheritance is a feature in object-oriented programming where a class can inherit attributes and behaviors\n",
    "from multiple parent classes. In other words, a class can derive properties and methods from more than one base class. \n",
    "This allows the derived class to combine features from multiple sources and exhibit the characteristics of multiple parent\n",
    "classes simultaneously.\n",
    "\n"
   ]
  },
  {
   "cell_type": "code",
   "execution_count": 22,
   "id": "437b8a00-2d79-4a5e-9915-6c3f28a528fa",
   "metadata": {},
   "outputs": [
    {
     "name": "stdout",
     "output_type": "stream",
     "text": [
      "Sparrow is eating.\n",
      "Sparrow is flying.\n",
      "Salmon is eating.\n",
      "Salmon is swimming.\n"
     ]
    }
   ],
   "source": [
    "class Animal:\n",
    "    def __init__(self, name):\n",
    "        self.name = name\n",
    "\n",
    "    def eat(self):\n",
    "        print(f\"{self.name} is eating.\")\n",
    "\n",
    "\n",
    "class CanFly:\n",
    "    def fly(self):\n",
    "        print(f\"{self.name} is flying.\")\n",
    "\n",
    "\n",
    "class CanSwim:\n",
    "    def swim(self):\n",
    "        print(f\"{self.name} is swimming.\")\n",
    "\n",
    "\n",
    "class Bird(Animal, CanFly):\n",
    "    def __init__(self, name):\n",
    "        Animal.__init__(self, name)\n",
    "\n",
    "\n",
    "class Fish(Animal, CanSwim):\n",
    "    def __init__(self, name):\n",
    "        Animal.__init__(self, name)\n",
    "\n",
    "\n",
    "bird = Bird(\"Sparrow\")\n",
    "bird.eat()\n",
    "bird.fly()\n",
    "\n",
    "fish = Fish(\"Salmon\")\n",
    "fish.eat()\n",
    "fish.swim()"
   ]
  },
  {
   "cell_type": "markdown",
   "id": "59eeaa63-a009-4dd7-95e6-875c1d877453",
   "metadata": {},
   "source": [
    "#4.In Python, getters and setters are methods used to access and modify the values of private instance variables of a class. They provide controlled access to the class attributes and allow encapsulation and data abstraction."
   ]
  },
  {
   "cell_type": "code",
   "execution_count": 23,
   "id": "49fb1853-feb6-40c5-9061-dda765ecf8fc",
   "metadata": {},
   "outputs": [
    {
     "name": "stdout",
     "output_type": "stream",
     "text": [
      "John\n",
      "Mike\n",
      "25\n",
      "30\n",
      "Age cannot be negative.\n",
      "30\n"
     ]
    }
   ],
   "source": [
    "class Person:\n",
    "    def __init__(self, name, age):\n",
    "        self._name = name\n",
    "        self._age = age\n",
    "\n",
    "    def get_name(self):\n",
    "        return self._name\n",
    "\n",
    "    def set_name(self, name):\n",
    "        self._name = name\n",
    "\n",
    "    def get_age(self):\n",
    "        return self._age\n",
    "\n",
    "    def set_age(self, age):\n",
    "        if age >= 0:\n",
    "            self._age = age\n",
    "        else:\n",
    "            print(\"Age cannot be negative.\")\n",
    "\n",
    "\n",
    "person = Person(\"John\", 25)\n",
    "print(person.get_name())\n",
    "person.set_name(\"Mike\")\n",
    "print(person.get_name())\n",
    "print(person.get_age())\n",
    "person.set_age(30)\n",
    "print(person.get_age())\n",
    "person.set_age(-5)\n",
    "print(person.get_age())"
   ]
  },
  {
   "cell_type": "markdown",
   "id": "c4858498-6831-4ac4-8631-b262027cd458",
   "metadata": {},
   "source": [
    "#5.Method overriding in Python is a concept where a subclass provides a different implementation of a method that is already defined in its parent class. The overridden method in the subclass has the same name and parameters as the method in the parent class but provides a modified or specialized behavior."
   ]
  },
  {
   "cell_type": "code",
   "execution_count": 24,
   "id": "d7e8c586-e705-4c14-b310-a0e4e8e198b6",
   "metadata": {},
   "outputs": [
    {
     "name": "stdout",
     "output_type": "stream",
     "text": [
      "Calculating area of the shape.\n",
      "The area of the rectangle is: 15\n"
     ]
    }
   ],
   "source": [
    "class Shape:\n",
    "    def area(self):\n",
    "        print(\"Calculating area of the shape.\")\n",
    "\n",
    "\n",
    "class Rectangle(Shape):\n",
    "    def area(self):\n",
    "        length = 5\n",
    "        width = 3\n",
    "        result = length * width\n",
    "        print(f\"The area of the rectangle is: {result}\")\n",
    "\n",
    "\n",
    "shape = Shape()\n",
    "shape.area()  \n",
    "\n",
    "rectangle = Rectangle()\n",
    "rectangle.area() "
   ]
  },
  {
   "cell_type": "code",
   "execution_count": 25,
   "id": "ef0064cc-03ff-49e4-9506-6be71146a475",
   "metadata": {},
   "outputs": [
    {
     "name": "stdout",
     "output_type": "stream",
     "text": [
      "finished the task assignment\n"
     ]
    }
   ],
   "source": [
    "print(\"finished the task assignment\")"
   ]
  },
  {
   "cell_type": "code",
   "execution_count": null,
   "id": "7968131f-175a-4476-9953-b756a673217c",
   "metadata": {},
   "outputs": [],
   "source": []
  }
 ],
 "metadata": {
  "kernelspec": {
   "display_name": "Python 3 (ipykernel)",
   "language": "python",
   "name": "python3"
  },
  "language_info": {
   "codemirror_mode": {
    "name": "ipython",
    "version": 3
   },
   "file_extension": ".py",
   "mimetype": "text/x-python",
   "name": "python",
   "nbconvert_exporter": "python",
   "pygments_lexer": "ipython3",
   "version": "3.10.8"
  }
 },
 "nbformat": 4,
 "nbformat_minor": 5
}
