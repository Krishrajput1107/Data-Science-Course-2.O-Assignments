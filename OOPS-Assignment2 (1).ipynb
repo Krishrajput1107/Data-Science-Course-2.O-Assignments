{
 "cells": [
  {
   "cell_type": "markdown",
   "id": "db6204c0-2a6b-4bc1-843a-8e51bacf2d6b",
   "metadata": {},
   "source": [
    "1.Abstraction in object-oriented programming (OOP) is a concept that focuses on representing essential features and behavior of real-world entities as simplified models. It involves emphasizing the relevant information while hiding unnecessary details, allowing programmers to work at a higher level of abstraction."
   ]
  },
  {
   "cell_type": "code",
   "execution_count": 1,
   "id": "37193ac0-a83e-4c15-b3a0-8a81730ba1f8",
   "metadata": {},
   "outputs": [
    {
     "name": "stdout",
     "output_type": "stream",
     "text": [
      "Woof!\n",
      "Meow!\n"
     ]
    }
   ],
   "source": [
    "from abc import ABC, abstractmethod\n",
    "\n",
    "class Animal(ABC):\n",
    "    def __init__(self, name):\n",
    "        self.name = name\n",
    "\n",
    "    @abstractmethod\n",
    "    def make_sound(self):\n",
    "        pass\n",
    "\n",
    "class Dog(Animal):\n",
    "    def make_sound(self):\n",
    "        print(\"Woof!\")\n",
    "\n",
    "class Cat(Animal):\n",
    "    def make_sound(self):\n",
    "        print(\"Meow!\")\n",
    "\n",
    "dog = Dog(\"Buddy\")\n",
    "cat = Cat(\"Whiskers\")\n",
    "\n",
    "dog.make_sound()  \n",
    "cat.make_sound() \n"
   ]
  },
  {
   "cell_type": "markdown",
   "id": "06c06b81-5f89-49f7-8874-e02085ac9ff2",
   "metadata": {},
   "source": [
    "2.Abstraction focuses on simplifying complex entities by emphasizing essential features, while encapsulation bundles data and methods into a single unit, providing access control and data integrity.\n",
    "\n",
    "Example:\n",
    "Abstraction: An abstract class \"Shape\" defines common properties and methods for shapes, allowing subclasses like \"Circle\" and \"Rectangle\" to provide their specific implementations.\n",
    "\n",
    "Encapsulation: The class \"Employee\" encapsulates employee information, protecting attributes like name and salary from direct access and providing methods to interact with the object."
   ]
  },
  {
   "cell_type": "markdown",
   "id": "219f1f90-8ef6-438c-ac0e-371ee387ea77",
   "metadata": {},
   "source": [
    "3.The abc module in Python provides functionality for creating abstract base classes (ABCs) and interfaces. It allows you to define abstract classes and enforce a structure and behavior in derived classes. Abstract base classes cannot be instantiated directly and serve as blueprints for subclasses. The abc module enables the use of abstract methods, which subclasses must implement, ensuring required behavior. It also supports the creation of interfaces, defining a set of methods that implementing classes must adhere to. The abc module promotes code organization, consistency, polymorphism, and type checking in Python programs."
   ]
  },
  {
   "cell_type": "markdown",
   "id": "82541d4f-bcd1-453f-a614-4d4079d11820",
   "metadata": {},
   "source": [
    "4.Data abstraction in object-oriented programming is achieved through techniques such as encapsulation, access modifiers, getters and setters, and abstraction layers. Encapsulation involves bundling data and related methods into a class, hiding the internal implementation details. Access modifiers control the visibility and accessibility of data members and methods. Getters and setters provide controlled access to private attributes, enabling validation and data manipulation. Abstraction layers organize classes into a hierarchical structure, with higher-level classes providing a generalized view and interacting with lower-level classes through well-defined interfaces. These techniques help in achieving data abstraction by emphasizing essential attributes and behaviors while hiding unnecessary details, promoting code organization, data integrity, and a higher level of abstraction."
   ]
  },
  {
   "cell_type": "markdown",
   "id": "45f348b9-ec7b-466c-bd0e-5bfc1ba152a5",
   "metadata": {},
   "source": [
    "5.No, we cannot create an instance of an abstract class directly in Python. An abstract class is a class that contains one or more abstract methods, which are declared but have no implementation in the abstract class itself. These abstract methods are meant to be implemented in the subclasses that inherit from the abstract class.\n",
    "\n",
    "In Python, you can create an abstract class using the abc module, specifically by inheriting from the ABC metaclass or the ABCMeta class. Abstract classes are meant to serve as blueprints or templates, defining a common structure and interface for its subclasses.\n",
    "\n",
    "Here's an example to illustrate:"
   ]
  },
  {
   "cell_type": "code",
   "execution_count": 3,
   "id": "8ed68202-0e99-42ab-b704-51125c3e4089",
   "metadata": {},
   "outputs": [
    {
     "ename": "TypeError",
     "evalue": "Can't instantiate abstract class Shape with abstract method area",
     "output_type": "error",
     "traceback": [
      "\u001b[0;31m---------------------------------------------------------------------------\u001b[0m",
      "\u001b[0;31mTypeError\u001b[0m                                 Traceback (most recent call last)",
      "Cell \u001b[0;32mIn[3], line 17\u001b[0m\n\u001b[1;32m     14\u001b[0m         \u001b[38;5;28;01mreturn\u001b[39;00m \u001b[38;5;28mself\u001b[39m\u001b[38;5;241m.\u001b[39mlength \u001b[38;5;241m*\u001b[39m \u001b[38;5;28mself\u001b[39m\u001b[38;5;241m.\u001b[39mwidth\n\u001b[1;32m     15\u001b[0m \u001b[38;5;66;03m# Attempt to create an instance of the abstract class (Shape)\u001b[39;00m\n\u001b[1;32m     16\u001b[0m \u001b[38;5;66;03m# This will raise a TypeError since abstract classes cannot be instantiated.\u001b[39;00m\n\u001b[0;32m---> 17\u001b[0m shape \u001b[38;5;241m=\u001b[39m \u001b[43mShape\u001b[49m\u001b[43m(\u001b[49m\u001b[43m)\u001b[49m \u001b[38;5;66;03m# Raises TypeError: Can't instantiate abstract class Shape with abstract methods area\u001b[39;00m\n",
      "\u001b[0;31mTypeError\u001b[0m: Can't instantiate abstract class Shape with abstract method area"
     ]
    }
   ],
   "source": [
    "from abc import ABC, abstractmethod\n",
    "\n",
    "class Shape(ABC):\n",
    "    @abstractmethod\n",
    "    def area(self):\n",
    "        pass\n",
    "\n",
    "class Circle(Shape):\n",
    "    def area(self):\n",
    "        return 3.14 * self.radius ** 2\n",
    "\n",
    "class Rectangle(Shape):\n",
    "    def area(self):\n",
    "        return self.length * self.width\n",
    "# Attempt to create an instance of the abstract class (Shape)\n",
    "# This will raise a TypeError since abstract classes cannot be instantiated.\n",
    "shape = Shape() # Raises TypeError: Can't instantiate abstract class Shape with abstract methods area\n"
   ]
  },
  {
   "cell_type": "code",
   "execution_count": 4,
   "id": "6c5c5bc3-d30f-4990-b263-af2c29e8defc",
   "metadata": {},
   "outputs": [
    {
     "name": "stdout",
     "output_type": "stream",
     "text": [
      "finished the assignment\n"
     ]
    }
   ],
   "source": [
    "print(\"finished the assignment\")"
   ]
  },
  {
   "cell_type": "code",
   "execution_count": null,
   "id": "7c2043ae-2add-467a-b7bc-9a6d3979da1c",
   "metadata": {},
   "outputs": [],
   "source": []
  }
 ],
 "metadata": {
  "kernelspec": {
   "display_name": "Python 3 (ipykernel)",
   "language": "python",
   "name": "python3"
  },
  "language_info": {
   "codemirror_mode": {
    "name": "ipython",
    "version": 3
   },
   "file_extension": ".py",
   "mimetype": "text/x-python",
   "name": "python",
   "nbconvert_exporter": "python",
   "pygments_lexer": "ipython3",
   "version": "3.10.8"
  }
 },
 "nbformat": 4,
 "nbformat_minor": 5
}
