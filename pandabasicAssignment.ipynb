{
 "cells": [
  {
   "cell_type": "code",
   "execution_count": 1,
   "id": "502b3cdf-ab7e-4fed-b333-ab7083eb5ae2",
   "metadata": {},
   "outputs": [
    {
     "name": "stdout",
     "output_type": "stream",
     "text": [
      "0     4\n",
      "1     8\n",
      "2    15\n",
      "3    16\n",
      "4    23\n",
      "5    42\n",
      "dtype: int64\n"
     ]
    }
   ],
   "source": [
    "#1.\n",
    "import pandas as pd\n",
    "\n",
    "data = [4, 8, 15, 16, 23, 42]\n",
    "series = pd.Series(data)\n",
    "\n",
    "print(series)\n"
   ]
  },
  {
   "cell_type": "code",
   "execution_count": 2,
   "id": "e992d093-ed0a-4464-a674-21e6f3967728",
   "metadata": {},
   "outputs": [
    {
     "name": "stdout",
     "output_type": "stream",
     "text": [
      "0     1\n",
      "1     2\n",
      "2     3\n",
      "3     4\n",
      "4     5\n",
      "5     6\n",
      "6     7\n",
      "7     8\n",
      "8     9\n",
      "9    10\n",
      "dtype: int64\n"
     ]
    }
   ],
   "source": [
    "#2.\n",
    "import pandas as pd\n",
    "\n",
    "my_list = [1, 2, 3, 4, 5, 6, 7, 8, 9, 10]\n",
    "series = pd.Series(my_list)\n",
    "\n",
    "print(series)\n"
   ]
  },
  {
   "cell_type": "code",
   "execution_count": 3,
   "id": "85780f67-0975-4306-975b-9f84253e517e",
   "metadata": {},
   "outputs": [
    {
     "name": "stdout",
     "output_type": "stream",
     "text": [
      "     Name  Age  Gender\n",
      "0   Alice   25  Female\n",
      "1     Bob   30    Male\n",
      "2  Claire   27  Female\n"
     ]
    }
   ],
   "source": [
    "#3.\n",
    "import pandas as pd\n",
    "\n",
    "data = {\n",
    "    'Name': ['Alice', 'Bob', 'Claire'],\n",
    "    'Age': [25, 30, 27],\n",
    "    'Gender': ['Female', 'Male', 'Female']\n",
    "}\n",
    "\n",
    "df = pd.DataFrame(data)\n",
    "print(df)\n"
   ]
  },
  {
   "cell_type": "markdown",
   "id": "32a91645-5ee3-48d5-a22d-4fb5a532d2e5",
   "metadata": {},
   "source": [
    "4.A DataFrame is a two-dimensional labeled data structure in pandas. It can be thought of as a table or spreadsheet with rows and columns. Each column can be of a different data type. It is commonly used for working with tabular data.\n",
    "\n",
    "In contrast, a Series is a one-dimensional labeled array in pandas. It can be seen as a single column of data with associated labels, often referred to as an index. A DataFrame is essentially a collection of Series, where each Series represents a column of the DataFrame.\n",
    "\n",
    "Example:"
   ]
  },
  {
   "cell_type": "code",
   "execution_count": 4,
   "id": "3ad477bb-b1b4-447a-b92e-045558f21a37",
   "metadata": {},
   "outputs": [
    {
     "name": "stdout",
     "output_type": "stream",
     "text": [
      "DataFrame:\n",
      "     Name  Age\n",
      "0   Alice   25\n",
      "1     Bob   30\n",
      "2  Claire   27\n",
      "\n",
      "Series:\n",
      "0    25\n",
      "1    30\n",
      "2    27\n",
      "Name: Age, dtype: int64\n"
     ]
    }
   ],
   "source": [
    "data = {\n",
    "    'Name': ['Alice', 'Bob', 'Claire'],\n",
    "    'Age': [25, 30, 27]\n",
    "}\n",
    "df = pd.DataFrame(data)\n",
    "\n",
    "ages = pd.Series([25, 30, 27], name='Age')\n",
    "\n",
    "print(\"DataFrame:\")\n",
    "print(df)\n",
    "\n",
    "print(\"\\nSeries:\")\n",
    "print(ages)\n"
   ]
  },
  {
   "cell_type": "markdown",
   "id": "8e7f8264-871f-4e5f-974b-5d1d3f9f3c65",
   "metadata": {},
   "source": [
    "5.Some common functions to manipulate data in a Pandas DataFrame include:\n",
    "\n",
    "head(): Display the first few rows of the DataFrame.\n",
    "tail(): Display the last few rows of the DataFrame.\n",
    "info(): Provide information about the DataFrame's data types and non-null values.\n",
    "describe(): Generate summary statistics of numeric columns.\n",
    "Example:"
   ]
  },
  {
   "cell_type": "code",
   "execution_count": 6,
   "id": "30dabf98-a02e-4eff-86f4-55c26911e3ca",
   "metadata": {},
   "outputs": [
    {
     "name": "stdout",
     "output_type": "stream",
     "text": [
      "     Name  Age\n",
      "0   Alice   25\n",
      "1     Bob   30\n",
      "2  Claire   27\n",
      "             Age\n",
      "count   3.000000\n",
      "mean   27.333333\n",
      "std     2.516611\n",
      "min    25.000000\n",
      "25%    26.000000\n",
      "50%    27.000000\n",
      "75%    28.500000\n",
      "max    30.000000\n"
     ]
    }
   ],
   "source": [
    "print(df.head())\n",
    "\n",
    "print(df.describe())\n"
   ]
  },
  {
   "cell_type": "markdown",
   "id": "070f3709-48aa-4ec8-9c7d-d677e0992a7b",
   "metadata": {},
   "source": [
    "6.Both Series and DataFrame are mutable in nature. This means you can modify their contents after creation. However, Panel is no longer actively developed in recent versions of pandas and has been deprecated."
   ]
  },
  {
   "cell_type": "markdown",
   "id": "0aa16512-00f1-4095-b466-6ab301d64648",
   "metadata": {},
   "source": [
    "7.The example I provided in my previous question already demonstrates creating a DataFrame using multiple Series. The data dictionary contains three Series: 'Name', 'Age', and 'Gender'. Each Series represents a column, and when you pass the dictionary to pd.DataFrame(), it constructs a DataFrame where each Series becomes a column."
   ]
  },
  {
   "cell_type": "code",
   "execution_count": 7,
   "id": "315ef239-59f0-4330-b3ab-7c194d5c75e1",
   "metadata": {},
   "outputs": [
    {
     "name": "stdout",
     "output_type": "stream",
     "text": [
      "finished\n"
     ]
    }
   ],
   "source": [
    "print(\"finished\")"
   ]
  },
  {
   "cell_type": "code",
   "execution_count": null,
   "id": "7a2473dd-a7e2-449e-93d5-db5d4a9c9b2c",
   "metadata": {},
   "outputs": [],
   "source": []
  }
 ],
 "metadata": {
  "kernelspec": {
   "display_name": "Python 3 (ipykernel)",
   "language": "python",
   "name": "python3"
  },
  "language_info": {
   "codemirror_mode": {
    "name": "ipython",
    "version": 3
   },
   "file_extension": ".py",
   "mimetype": "text/x-python",
   "name": "python",
   "nbconvert_exporter": "python",
   "pygments_lexer": "ipython3",
   "version": "3.10.8"
  }
 },
 "nbformat": 4,
 "nbformat_minor": 5
}
