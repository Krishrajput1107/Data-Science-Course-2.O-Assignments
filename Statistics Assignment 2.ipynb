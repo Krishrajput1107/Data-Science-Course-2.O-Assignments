{
 "cells": [
  {
   "cell_type": "markdown",
   "id": "9f9c1c62-1fcd-4422-aa8f-64a3f9267638",
   "metadata": {},
   "source": [
    "Q1. The three measures of central tendency are:\n",
    "\n",
    "Mean: The sum of all values in a dataset divided by the number of values. It is the arithmetic average and is sensitive to extreme values.\n",
    "\n",
    "Median: The middle value when the data is arranged in order. If the dataset has an odd number of values, the median is the middle value. If the dataset has an even number of values, the median is the average of the two middle values.\n",
    "\n",
    "Mode: The value that appears most frequently in the dataset. There can be one mode, more than one mode (multimodal), or no mode at all.\n",
    "\n",
    "Q2. The mean, median, and mode are all measures used to describe the central tendency of a dataset, but they do so in different ways. The mean takes into account all values in the dataset and is affected by outliers. The median is the middle value and is less affected by extreme values. The mode represents the most common value(s) in the dataset and is often used with categorical or discrete data."
   ]
  },
  {
   "cell_type": "code",
   "execution_count": 6,
   "id": "8e7a99c3-48e0-459a-aa13-4411e20d9b72",
   "metadata": {},
   "outputs": [
    {
     "data": {
      "text/plain": [
       "177.01875"
      ]
     },
     "execution_count": 6,
     "metadata": {},
     "output_type": "execute_result"
    }
   ],
   "source": [
    "#Q3.\n",
    "d=[178,177,176,177,178.2,178,175,179,180,175,178.9,176.2,177,172.5,178,176.5]\n",
    "import numpy as np\n",
    "np.mean(d)"
   ]
  },
  {
   "cell_type": "code",
   "execution_count": 7,
   "id": "1246996c-1abb-45d8-bb4a-ae9ad0659711",
   "metadata": {},
   "outputs": [
    {
     "data": {
      "text/plain": [
       "177.0"
      ]
     },
     "execution_count": 7,
     "metadata": {},
     "output_type": "execute_result"
    }
   ],
   "source": [
    "np.median(d)"
   ]
  },
  {
   "cell_type": "code",
   "execution_count": 9,
   "id": "50e57421-6e46-4669-9c88-d928963e9f28",
   "metadata": {},
   "outputs": [],
   "source": [
    "from scipy import stats"
   ]
  },
  {
   "cell_type": "code",
   "execution_count": 10,
   "id": "41c3c5b4-c025-4e48-8ad7-2f9f390723aa",
   "metadata": {},
   "outputs": [
    {
     "name": "stderr",
     "output_type": "stream",
     "text": [
      "/tmp/ipykernel_91/3857837850.py:1: FutureWarning: Unlike other reduction functions (e.g. `skew`, `kurtosis`), the default behavior of `mode` typically preserves the axis it acts along. In SciPy 1.11.0, this behavior will change: the default value of `keepdims` will become False, the `axis` over which the statistic is taken will be eliminated, and the value None will no longer be accepted. Set `keepdims` to True or False to avoid this warning.\n",
      "  stats.mode(d)\n"
     ]
    },
    {
     "data": {
      "text/plain": [
       "ModeResult(mode=array([177.]), count=array([3]))"
      ]
     },
     "execution_count": 10,
     "metadata": {},
     "output_type": "execute_result"
    }
   ],
   "source": [
    "stats.mode(d)"
   ]
  },
  {
   "cell_type": "code",
   "execution_count": 12,
   "id": "bacf1d76-0088-4965-88c4-000e66cb90ef",
   "metadata": {},
   "outputs": [],
   "source": [
    "#Q4.\n",
    "s=[178,177,176,177,178.2,178,175,179,180,175,178.9,176.2,177,172.5,178,176.5]"
   ]
  },
  {
   "cell_type": "code",
   "execution_count": 13,
   "id": "a338aa3f-6d21-411e-9dc3-52659cd6d396",
   "metadata": {},
   "outputs": [
    {
     "data": {
      "text/plain": [
       "1.7885814036548633"
      ]
     },
     "execution_count": 13,
     "metadata": {},
     "output_type": "execute_result"
    }
   ],
   "source": [
    "np.std(s)"
   ]
  },
  {
   "cell_type": "markdown",
   "id": "5c19cab8-dda3-4d41-a229-0380bf2728ed",
   "metadata": {},
   "source": [
    "Q5. Measures of dispersion describe how spread out the values in a dataset are:\n",
    "\n",
    "Range: The difference between the maximum and minimum values.\n",
    "\n",
    "Variance: The average of the squared differences between each value and the mean.\n",
    "\n",
    "Standard Deviation: The square root of the variance.\n",
    "\n",
    "For example, if you have test scores for two students: Student A (70, 85, 90, 95) and Student B (75, 80, 85, 100), both students have a mean of 85. However, Student B's scores are more spread out, as reflected in a higher standard deviation compared to Student A.\n",
    "\n",
    "Q6. A Venn diagram is a graphical representation of the relationships between different sets. It uses circles to show the commonalities and differences between sets.\n",
    "\n",
    "Q7. For the given sets A = {2, 3, 4, 5, 6, 7} and B = {0, 2, 6, 8, 10}:\n",
    "(i) A ∩ B (intersection) = {2, 6}\n",
    "(ii) A ∪ B (union) = {0, 2, 3, 4, 5, 6, 7, 8, 10}\n",
    "\n",
    "Q8. Skewness in data refers to the asymmetry in the distribution of values. If a dataset is skewed to the right (positively skewed), its tail on the right side is longer, and most of the values are concentrated on the left side. If a dataset is skewed to the left (negatively skewed), the opposite is true.\n",
    "\n",
    "Q9. In a right-skewed data distribution, the median will typically be less than the mean. This is because the presence of larger values in the right tail pulls the mean in that direction, while the median is less affected by these extreme values.\n",
    "\n",
    "Q10. Covariance measures the extent to which two variables change together. It can be positive or negative, indicating a positive or negative relationship between variables. Correlation, on the other hand, standardizes covariance to a range of -1 to 1, indicating the strength and direction of the linear relationship between variables. Correlation is more interpretable and useful when comparing the relationships between different pairs of variables.\n",
    "\n",
    "Q11. The formula for calculating the sample mean is:\n",
    "Sample Mean (x̄) = (Sum of all values) / (Number of values)\n",
    "\n",
    "For example, if you have a dataset: [10, 15, 20, 25, 30], the sample mean would be (10 + 15 + 20 + 25 + 30) / 5 = 20.\n",
    "\n",
    "Q12. In a normal distribution, the mean, median, and mode are all equal and located at the center of the distribution. This is a characteristic of the symmetric nature of the normal distribution.\n",
    "\n",
    "Q13. Covariance measures the direction of the linear relationship between two variables, while correlation measures both the direction and strength of the linear relationship. Correlation is standardized, making it easier to interpret compared to covariance. Covariance can take any value, positive or negative, while correlation is bound between -1 and 1.\n",
    "\n",
    "Q14. Outliers can significantly affect measures of central tendency and dispersion:\n",
    "\n",
    "Central Tendency: Outliers can pull the mean in their direction, making it misleading. The median is less affected by outliers, providing a more robust measure of central tendency.\n",
    "Dispersion: Outliers can increase the range, variance, and standard deviation, making the spread of data appear larger than it actually is.\n",
    "For example, consider the dataset: [10, 15, 20, 25, 1000]. The mean would be heavily influenced by the outlier 1000, while the median and measures of dispersion would provide a more accurate representation of the majority of the data."
   ]
  },
  {
   "cell_type": "code",
   "execution_count": null,
   "id": "03eab3cc-b080-44e3-93b4-b55182ec2274",
   "metadata": {},
   "outputs": [],
   "source": []
  }
 ],
 "metadata": {
  "kernelspec": {
   "display_name": "Python 3 (ipykernel)",
   "language": "python",
   "name": "python3"
  },
  "language_info": {
   "codemirror_mode": {
    "name": "ipython",
    "version": 3
   },
   "file_extension": ".py",
   "mimetype": "text/x-python",
   "name": "python",
   "nbconvert_exporter": "python",
   "pygments_lexer": "ipython3",
   "version": "3.10.8"
  }
 },
 "nbformat": 4,
 "nbformat_minor": 5
}
