{
 "cells": [
  {
   "cell_type": "markdown",
   "id": "94d6e992-9e4d-4948-82ec-d141255f4c47",
   "metadata": {},
   "source": [
    "Q1: Assumptions required to use ANOVA (Analysis of Variance) include:\n",
    "\n",
    "Independence: Observations within and between groups should be independent of each other. Violations can occur if data points are not independent, such as in repeated measures or nested designs.\n",
    "\n",
    "Normality: The residuals (the differences between observed and expected values) should follow a normal distribution. Violations can lead to inaccurate p-values and confidence intervals.\n",
    "\n",
    "Homogeneity of Variance: The variance of the residuals should be roughly equal across all groups (homoscedasticity). Heteroscedasticity can affect the validity of ANOVA results.\n",
    "\n",
    "Examples of violations:\n",
    "\n",
    "Non-independence: Testing the effects of a teaching method on students within the same classroom, where students' outcomes may be correlated.\n",
    "Non-normality: When the residuals do not follow a normal distribution, e.g., in skewed data.\n",
    "Heteroscedasticity: When the variance of the residuals differs significantly between groups, leading to unequal spread of data points.\n",
    "Q2: The three types of ANOVA are:\n",
    "\n",
    "One-Way ANOVA: Used when comparing means of three or more independent groups to determine if there are statistically significant differences among them. For example, comparing the test scores of students from different schools.\n",
    "\n",
    "Two-Way ANOVA: Used when you have two independent categorical variables (factors) and want to assess their individual effects and interaction effects on a dependent variable. For example, assessing how both gender and treatment affect test scores.\n",
    "\n",
    "Repeated Measures ANOVA: Used when the same subjects are used for each treatment (within-subject design). It assesses changes over time or repeated measurements on the same subjects. For example, analyzing the effect of time on blood pressure in the same individuals at multiple time points.\n",
    "\n",
    "Q3: Partitioning of variance in ANOVA involves breaking down the total variability observed in the data into different components:\n",
    "\n",
    "Total Sum of Squares (SST): Measures the total variability in the data.\n",
    "\n",
    "Explained Sum of Squares (SSE): Measures the variability explained by the factors or groups being compared.\n",
    "\n",
    "Residual Sum of Squares (SSR): Measures the unexplained or error variability.\n",
    "\n",
    "Understanding this partitioning helps in assessing the proportion of variability attributed to the factors of interest and whether the observed differences are statistically significant.\n",
    "\n",
    "Q4: To calculate SST, SSE, and SSR in a one-way ANOVA using Python, you can use the following code:"
   ]
  },
  {
   "cell_type": "code",
   "execution_count": 2,
   "id": "e1f235c7-4bea-4042-8c5d-fe34eac47380",
   "metadata": {},
   "outputs": [
    {
     "name": "stdout",
     "output_type": "stream",
     "text": [
      "SST: 280.0\n",
      "SSE: 250.0\n",
      "SSR: 30.0\n"
     ]
    }
   ],
   "source": [
    "import scipy.stats as stats\n",
    "\n",
    "# Sample data for three groups (replace with your data)\n",
    "group1 = [15, 16, 17, 18, 19]\n",
    "group2 = [20, 21, 22, 23, 24]\n",
    "group3 = [25, 26, 27, 28, 29]\n",
    "\n",
    "# Combine data from all groups\n",
    "all_data = group1 + group2 + group3\n",
    "\n",
    "# Calculate total mean\n",
    "total_mean = sum(all_data) / len(all_data)\n",
    "\n",
    "# Calculate Total Sum of Squares (SST)\n",
    "sst = sum((x - total_mean) ** 2 for x in all_data)\n",
    "\n",
    "# Calculate Explained Sum of Squares (SSE)\n",
    "group_means = [sum(group) / len(group) for group in [group1, group2, group3]]\n",
    "sse = sum(len(group) * (group_mean - total_mean) ** 2 for group, group_mean in zip([group1, group2, group3], group_means))\n",
    "\n",
    "# Calculate Residual Sum of Squares (SSR)\n",
    "ssr = sst - sse\n",
    "\n",
    "print(\"SST:\", sst)\n",
    "print(\"SSE:\", sse)\n",
    "print(\"SSR:\", ssr)\n"
   ]
  },
  {
   "cell_type": "markdown",
   "id": "6066c35f-61c2-4565-a8b4-39352a375113",
   "metadata": {},
   "source": [
    "Q5: In a two-way ANOVA, you can calculate the main effects and interaction effects using Python by fitting an appropriate model and extracting the relevant statistics. You typically use libraries like statsmodels or scipy.\n",
    "\n",
    "Main effects:\n",
    "\n",
    "Calculate the main effect of each factor (e.g., software program and employee experience level) separately.\n",
    "Interaction effect:\n",
    "\n",
    "Fit the two-way ANOVA model with both factors and their interaction term.\n",
    "Examine the F-statistics and p-values associated with the interaction term to determine if there's a significant interaction effect.\n",
    "The specific Python code will depend on your dataset and the library you choose.\n",
    "\n",
    "Q6: If you conducted a one-way ANOVA and obtained an F-statistic of 5.23 and a p-value of 0.02, you can conclude that there are significant differences between the groups. The interpretation is that at least one group mean is different from the others. You would reject the null hypothesis.\n",
    "\n",
    "Q7: Handling missing data in repeated measures ANOVA can be done using various methods, including:\n",
    "\n",
    "Complete Case Analysis: You exclude subjects with any missing data. This can lead to reduced sample sizes and potentially biased results if data is missing non-randomly.\n",
    "\n",
    "Imputation: You fill in missing values with estimated values (e.g., mean imputation, regression imputation). This can preserve sample size but may introduce bias if the imputation method is not appropriate.\n",
    "\n",
    "Mixed Models: You use statistical techniques like mixed-effects models, which can handle missing data while accounting for the correlation structure in repeated measures data.\n",
    "\n",
    "The choice of method depends on the nature of your data and the assumptions you are willing to make. Different methods can yield different results, so it's essential to consider the potential consequences and document your choice.\n",
    "\n",
    "Q8: Common post-hoc tests used after ANOVA include:\n",
    "\n",
    "Tukey's Honestly Significant Difference (HSD): Used to compare all possible pairs of group means. It controls the familywise error rate.\n",
    "\n",
    "Bonferroni Correction: Adjusts the significance level for multiple comparisons to control the familywise error rate.\n",
    "\n",
    "Duncan's Multiple Range Test: Similar to Tukey's HSD but uses a different method for comparing means.\n",
    "\n",
    "You would use post-hoc tests when ANOVA indicates significant differences among groups, and you want to identify which specific groups differ from each other.\n",
    "\n",
    "Q9: To conduct a one-way ANOVA in Python for the researcher's scenario, you can use the following code:"
   ]
  },
  {
   "cell_type": "code",
   "execution_count": 3,
   "id": "7eb0e9ee-d1cf-4b12-bafb-b22678eb7286",
   "metadata": {},
   "outputs": [
    {
     "name": "stdout",
     "output_type": "stream",
     "text": [
      "F-statistic: 2.0\n",
      "P-value: 0.177978515625\n",
      "Fail to reject the null hypothesis: There are no significant differences between the mean weight loss of the three diets.\n"
     ]
    }
   ],
   "source": [
    "import scipy.stats as stats\n",
    "\n",
    "# Sample data for the three diets (replace with your data)\n",
    "diet_A = [2, 3, 4, 5, 6]\n",
    "diet_B = [1, 2, 3, 4, 5]\n",
    "diet_C = [3, 4, 5, 6, 7]\n",
    "\n",
    "# Perform one-way ANOVA\n",
    "f_statistic, p_value = stats.f_oneway(diet_A, diet_B, diet_C)\n",
    "\n",
    "alpha = 0.05\n",
    "\n",
    "print(\"F-statistic:\", f_statistic)\n",
    "print(\"P-value:\", p_value)\n",
    "\n",
    "if p_value < alpha:\n",
    "    print(\"Reject the null hypothesis: There are significant differences between the mean weight loss of the three diets.\")\n",
    "else:\n",
    "    print(\"Fail to reject the null hypothesis: There are no significant differences between the mean weight loss of the three diets.\")\n"
   ]
  },
  {
   "cell_type": "markdown",
   "id": "e8069959-8b8c-4a90-8474-ee60ce37ac75",
   "metadata": {},
   "source": [
    "Q10: Conducting a two-way ANOVA in Python for the company's scenario involves fitting a suitable model. The code will vary depending on the library used (e.g., statsmodels, scipy). Here's a simplified example using statsmodels:"
   ]
  },
  {
   "cell_type": "code",
   "execution_count": 6,
   "id": "d47c1bc7-5e0c-4a3f-bf36-5c93a33ddf44",
   "metadata": {},
   "outputs": [
    {
     "ename": "ValueError",
     "evalue": "All arrays must be of the same length",
     "output_type": "error",
     "traceback": [
      "\u001b[0;31m---------------------------------------------------------------------------\u001b[0m",
      "\u001b[0;31mValueError\u001b[0m                                Traceback (most recent call last)",
      "Cell \u001b[0;32mIn[6], line 6\u001b[0m\n\u001b[1;32m      3\u001b[0m \u001b[38;5;28;01mimport\u001b[39;00m \u001b[38;5;21;01mpandas\u001b[39;00m \u001b[38;5;28;01mas\u001b[39;00m \u001b[38;5;21;01mpd\u001b[39;00m\n\u001b[1;32m      5\u001b[0m \u001b[38;5;66;03m# Sample data (replace with your data)\u001b[39;00m\n\u001b[0;32m----> 6\u001b[0m data \u001b[38;5;241m=\u001b[39m \u001b[43mpd\u001b[49m\u001b[38;5;241;43m.\u001b[39;49m\u001b[43mDataFrame\u001b[49m\u001b[43m(\u001b[49m\u001b[43m{\u001b[49m\u001b[38;5;124;43m'\u001b[39;49m\u001b[38;5;124;43mTime\u001b[39;49m\u001b[38;5;124;43m'\u001b[39;49m\u001b[43m:\u001b[49m\u001b[43m \u001b[49m\u001b[43m[\u001b[49m\u001b[38;5;241;43m20\u001b[39;49m\u001b[43m,\u001b[49m\u001b[43m \u001b[49m\u001b[38;5;241;43m21\u001b[39;49m\u001b[43m,\u001b[49m\u001b[43m \u001b[49m\u001b[38;5;241;43m22\u001b[39;49m\u001b[43m,\u001b[49m\u001b[43m \u001b[49m\u001b[38;5;241;43m23\u001b[39;49m\u001b[43m,\u001b[49m\u001b[43m \u001b[49m\u001b[38;5;241;43m24\u001b[39;49m\u001b[43m,\u001b[49m\u001b[43m \u001b[49m\u001b[38;5;241;43m.\u001b[39;49m\u001b[38;5;241;43m.\u001b[39;49m\u001b[38;5;241;43m.\u001b[39;49m\u001b[43m]\u001b[49m\u001b[43m,\u001b[49m\n\u001b[1;32m      7\u001b[0m \u001b[43m                     \u001b[49m\u001b[38;5;124;43m'\u001b[39;49m\u001b[38;5;124;43mProgram\u001b[39;49m\u001b[38;5;124;43m'\u001b[39;49m\u001b[43m:\u001b[49m\u001b[43m \u001b[49m\u001b[43m[\u001b[49m\u001b[38;5;124;43m'\u001b[39;49m\u001b[38;5;124;43mA\u001b[39;49m\u001b[38;5;124;43m'\u001b[39;49m\u001b[43m,\u001b[49m\u001b[43m \u001b[49m\u001b[38;5;124;43m'\u001b[39;49m\u001b[38;5;124;43mB\u001b[39;49m\u001b[38;5;124;43m'\u001b[39;49m\u001b[43m,\u001b[49m\u001b[43m \u001b[49m\u001b[38;5;124;43m'\u001b[39;49m\u001b[38;5;124;43mC\u001b[39;49m\u001b[38;5;124;43m'\u001b[39;49m\u001b[43m,\u001b[49m\u001b[43m \u001b[49m\u001b[38;5;124;43m'\u001b[39;49m\u001b[38;5;124;43mA\u001b[39;49m\u001b[38;5;124;43m'\u001b[39;49m\u001b[43m,\u001b[49m\u001b[43m \u001b[49m\u001b[38;5;124;43m'\u001b[39;49m\u001b[38;5;124;43mB\u001b[39;49m\u001b[38;5;124;43m'\u001b[39;49m\u001b[43m,\u001b[49m\u001b[43m \u001b[49m\u001b[38;5;241;43m.\u001b[39;49m\u001b[38;5;241;43m.\u001b[39;49m\u001b[38;5;241;43m.\u001b[39;49m\u001b[43m]\u001b[49m\u001b[43m,\u001b[49m\n\u001b[1;32m      8\u001b[0m \u001b[43m                     \u001b[49m\u001b[38;5;124;43m'\u001b[39;49m\u001b[38;5;124;43mExperience\u001b[39;49m\u001b[38;5;124;43m'\u001b[39;49m\u001b[43m:\u001b[49m\u001b[43m \u001b[49m\u001b[43m[\u001b[49m\u001b[38;5;124;43m'\u001b[39;49m\u001b[38;5;124;43mNovice\u001b[39;49m\u001b[38;5;124;43m'\u001b[39;49m\u001b[43m,\u001b[49m\u001b[43m \u001b[49m\u001b[38;5;124;43m'\u001b[39;49m\u001b[38;5;124;43mExperienced\u001b[39;49m\u001b[38;5;124;43m'\u001b[39;49m\u001b[43m,\u001b[49m\u001b[43m \u001b[49m\u001b[38;5;124;43m'\u001b[39;49m\u001b[38;5;124;43mNovice\u001b[39;49m\u001b[38;5;124;43m'\u001b[39;49m\u001b[43m,\u001b[49m\u001b[43m \u001b[49m\u001b[38;5;124;43m'\u001b[39;49m\u001b[38;5;124;43mExperienced\u001b[39;49m\u001b[38;5;124;43m'\u001b[39;49m\u001b[43m,\u001b[49m\u001b[43m \u001b[49m\u001b[38;5;241;43m.\u001b[39;49m\u001b[38;5;241;43m.\u001b[39;49m\u001b[38;5;241;43m.\u001b[39;49m\u001b[43m]\u001b[49m\u001b[43m}\u001b[49m\u001b[43m)\u001b[49m\n\u001b[1;32m     10\u001b[0m \u001b[38;5;66;03m# Fit a two-way ANOVA model\u001b[39;00m\n\u001b[1;32m     11\u001b[0m formula \u001b[38;5;241m=\u001b[39m \u001b[38;5;124m'\u001b[39m\u001b[38;5;124mTime ~ C(Program) * C(Experience)\u001b[39m\u001b[38;5;124m'\u001b[39m\n",
      "File \u001b[0;32m/opt/conda/lib/python3.10/site-packages/pandas/core/frame.py:663\u001b[0m, in \u001b[0;36mDataFrame.__init__\u001b[0;34m(self, data, index, columns, dtype, copy)\u001b[0m\n\u001b[1;32m    657\u001b[0m     mgr \u001b[38;5;241m=\u001b[39m \u001b[38;5;28mself\u001b[39m\u001b[38;5;241m.\u001b[39m_init_mgr(\n\u001b[1;32m    658\u001b[0m         data, axes\u001b[38;5;241m=\u001b[39m{\u001b[38;5;124m\"\u001b[39m\u001b[38;5;124mindex\u001b[39m\u001b[38;5;124m\"\u001b[39m: index, \u001b[38;5;124m\"\u001b[39m\u001b[38;5;124mcolumns\u001b[39m\u001b[38;5;124m\"\u001b[39m: columns}, dtype\u001b[38;5;241m=\u001b[39mdtype, copy\u001b[38;5;241m=\u001b[39mcopy\n\u001b[1;32m    659\u001b[0m     )\n\u001b[1;32m    661\u001b[0m \u001b[38;5;28;01melif\u001b[39;00m \u001b[38;5;28misinstance\u001b[39m(data, \u001b[38;5;28mdict\u001b[39m):\n\u001b[1;32m    662\u001b[0m     \u001b[38;5;66;03m# GH#38939 de facto copy defaults to False only in non-dict cases\u001b[39;00m\n\u001b[0;32m--> 663\u001b[0m     mgr \u001b[38;5;241m=\u001b[39m \u001b[43mdict_to_mgr\u001b[49m\u001b[43m(\u001b[49m\u001b[43mdata\u001b[49m\u001b[43m,\u001b[49m\u001b[43m \u001b[49m\u001b[43mindex\u001b[49m\u001b[43m,\u001b[49m\u001b[43m \u001b[49m\u001b[43mcolumns\u001b[49m\u001b[43m,\u001b[49m\u001b[43m \u001b[49m\u001b[43mdtype\u001b[49m\u001b[38;5;241;43m=\u001b[39;49m\u001b[43mdtype\u001b[49m\u001b[43m,\u001b[49m\u001b[43m \u001b[49m\u001b[43mcopy\u001b[49m\u001b[38;5;241;43m=\u001b[39;49m\u001b[43mcopy\u001b[49m\u001b[43m,\u001b[49m\u001b[43m \u001b[49m\u001b[43mtyp\u001b[49m\u001b[38;5;241;43m=\u001b[39;49m\u001b[43mmanager\u001b[49m\u001b[43m)\u001b[49m\n\u001b[1;32m    664\u001b[0m \u001b[38;5;28;01melif\u001b[39;00m \u001b[38;5;28misinstance\u001b[39m(data, ma\u001b[38;5;241m.\u001b[39mMaskedArray):\n\u001b[1;32m    665\u001b[0m     \u001b[38;5;28;01mimport\u001b[39;00m \u001b[38;5;21;01mnumpy\u001b[39;00m\u001b[38;5;21;01m.\u001b[39;00m\u001b[38;5;21;01mma\u001b[39;00m\u001b[38;5;21;01m.\u001b[39;00m\u001b[38;5;21;01mmrecords\u001b[39;00m \u001b[38;5;28;01mas\u001b[39;00m \u001b[38;5;21;01mmrecords\u001b[39;00m\n",
      "File \u001b[0;32m/opt/conda/lib/python3.10/site-packages/pandas/core/internals/construction.py:493\u001b[0m, in \u001b[0;36mdict_to_mgr\u001b[0;34m(data, index, columns, dtype, typ, copy)\u001b[0m\n\u001b[1;32m    489\u001b[0m     \u001b[38;5;28;01melse\u001b[39;00m:\n\u001b[1;32m    490\u001b[0m         \u001b[38;5;66;03m# dtype check to exclude e.g. range objects, scalars\u001b[39;00m\n\u001b[1;32m    491\u001b[0m         arrays \u001b[38;5;241m=\u001b[39m [x\u001b[38;5;241m.\u001b[39mcopy() \u001b[38;5;28;01mif\u001b[39;00m \u001b[38;5;28mhasattr\u001b[39m(x, \u001b[38;5;124m\"\u001b[39m\u001b[38;5;124mdtype\u001b[39m\u001b[38;5;124m\"\u001b[39m) \u001b[38;5;28;01melse\u001b[39;00m x \u001b[38;5;28;01mfor\u001b[39;00m x \u001b[38;5;129;01min\u001b[39;00m arrays]\n\u001b[0;32m--> 493\u001b[0m \u001b[38;5;28;01mreturn\u001b[39;00m \u001b[43marrays_to_mgr\u001b[49m\u001b[43m(\u001b[49m\u001b[43marrays\u001b[49m\u001b[43m,\u001b[49m\u001b[43m \u001b[49m\u001b[43mcolumns\u001b[49m\u001b[43m,\u001b[49m\u001b[43m \u001b[49m\u001b[43mindex\u001b[49m\u001b[43m,\u001b[49m\u001b[43m \u001b[49m\u001b[43mdtype\u001b[49m\u001b[38;5;241;43m=\u001b[39;49m\u001b[43mdtype\u001b[49m\u001b[43m,\u001b[49m\u001b[43m \u001b[49m\u001b[43mtyp\u001b[49m\u001b[38;5;241;43m=\u001b[39;49m\u001b[43mtyp\u001b[49m\u001b[43m,\u001b[49m\u001b[43m \u001b[49m\u001b[43mconsolidate\u001b[49m\u001b[38;5;241;43m=\u001b[39;49m\u001b[43mcopy\u001b[49m\u001b[43m)\u001b[49m\n",
      "File \u001b[0;32m/opt/conda/lib/python3.10/site-packages/pandas/core/internals/construction.py:118\u001b[0m, in \u001b[0;36marrays_to_mgr\u001b[0;34m(arrays, columns, index, dtype, verify_integrity, typ, consolidate)\u001b[0m\n\u001b[1;32m    115\u001b[0m \u001b[38;5;28;01mif\u001b[39;00m verify_integrity:\n\u001b[1;32m    116\u001b[0m     \u001b[38;5;66;03m# figure out the index, if necessary\u001b[39;00m\n\u001b[1;32m    117\u001b[0m     \u001b[38;5;28;01mif\u001b[39;00m index \u001b[38;5;129;01mis\u001b[39;00m \u001b[38;5;28;01mNone\u001b[39;00m:\n\u001b[0;32m--> 118\u001b[0m         index \u001b[38;5;241m=\u001b[39m \u001b[43m_extract_index\u001b[49m\u001b[43m(\u001b[49m\u001b[43marrays\u001b[49m\u001b[43m)\u001b[49m\n\u001b[1;32m    119\u001b[0m     \u001b[38;5;28;01melse\u001b[39;00m:\n\u001b[1;32m    120\u001b[0m         index \u001b[38;5;241m=\u001b[39m ensure_index(index)\n",
      "File \u001b[0;32m/opt/conda/lib/python3.10/site-packages/pandas/core/internals/construction.py:666\u001b[0m, in \u001b[0;36m_extract_index\u001b[0;34m(data)\u001b[0m\n\u001b[1;32m    664\u001b[0m lengths \u001b[38;5;241m=\u001b[39m \u001b[38;5;28mlist\u001b[39m(\u001b[38;5;28mset\u001b[39m(raw_lengths))\n\u001b[1;32m    665\u001b[0m \u001b[38;5;28;01mif\u001b[39;00m \u001b[38;5;28mlen\u001b[39m(lengths) \u001b[38;5;241m>\u001b[39m \u001b[38;5;241m1\u001b[39m:\n\u001b[0;32m--> 666\u001b[0m     \u001b[38;5;28;01mraise\u001b[39;00m \u001b[38;5;167;01mValueError\u001b[39;00m(\u001b[38;5;124m\"\u001b[39m\u001b[38;5;124mAll arrays must be of the same length\u001b[39m\u001b[38;5;124m\"\u001b[39m)\n\u001b[1;32m    668\u001b[0m \u001b[38;5;28;01mif\u001b[39;00m have_dicts:\n\u001b[1;32m    669\u001b[0m     \u001b[38;5;28;01mraise\u001b[39;00m \u001b[38;5;167;01mValueError\u001b[39;00m(\n\u001b[1;32m    670\u001b[0m         \u001b[38;5;124m\"\u001b[39m\u001b[38;5;124mMixing dicts with non-Series may lead to ambiguous ordering.\u001b[39m\u001b[38;5;124m\"\u001b[39m\n\u001b[1;32m    671\u001b[0m     )\n",
      "\u001b[0;31mValueError\u001b[0m: All arrays must be of the same length"
     ]
    }
   ],
   "source": [
    "import statsmodels.api as sm\n",
    "from statsmodels.formula.api import ols\n",
    "import pandas as pd\n",
    "\n",
    "# Sample data (replace with your data)\n",
    "data = pd.DataFrame({'Time': [20, 21, 22, 23, 24, ...],\n",
    "                     'Program': ['A', 'B', 'C', 'A', 'B', ...],\n",
    "                     'Experience': ['Novice', 'Experienced', 'Novice', 'Experienced', ...]})\n",
    "\n",
    "# Fit a two-way ANOVA model\n",
    "formula = 'Time ~ C(Program) * C(Experience)'\n",
    "model = ols(formula, data=data).fit()\n",
    "\n",
    "# Perform the ANOVA\n",
    "anova_table = sm.stats.anova_lm(model, typ=2)\n",
    "\n",
    "print(anova_table)\n"
   ]
  },
  {
   "cell_type": "markdown",
   "id": "6325ad8e-78fa-43ec-bdd4-758d79dc4eb9",
   "metadata": {},
   "source": [
    "Interpret the results by examining the F-statistics and p-values for the main effects and interaction effect.\n",
    "\n",
    "Q11: To conduct a two-sample t-test in Python for the educational researcher's scenario, you can use the following code:"
   ]
  },
  {
   "cell_type": "code",
   "execution_count": 7,
   "id": "9a0c88ba-dcbf-43de-a449-c49521af0f2c",
   "metadata": {},
   "outputs": [
    {
     "name": "stderr",
     "output_type": "stream",
     "text": [
      "/opt/conda/lib/python3.10/site-packages/scipy/stats/_stats_py.py:112: RuntimeWarning: The input array could not be properly checked for nan values. nan values will be ignored.\n",
      "  warnings.warn(\"The input array could not be properly \"\n"
     ]
    },
    {
     "ename": "TypeError",
     "evalue": "unsupported operand type(s) for +: 'int' and 'ellipsis'",
     "output_type": "error",
     "traceback": [
      "\u001b[0;31m---------------------------------------------------------------------------\u001b[0m",
      "\u001b[0;31mTypeError\u001b[0m                                 Traceback (most recent call last)",
      "Cell \u001b[0;32mIn[7], line 8\u001b[0m\n\u001b[1;32m      5\u001b[0m experimental_group \u001b[38;5;241m=\u001b[39m [\u001b[38;5;241m90\u001b[39m, \u001b[38;5;241m88\u001b[39m, \u001b[38;5;241m92\u001b[39m, \u001b[38;5;241m86\u001b[39m, \u001b[38;5;241m89\u001b[39m, \u001b[38;5;241m.\u001b[39m\u001b[38;5;241m.\u001b[39m\u001b[38;5;241m.\u001b[39m]\n\u001b[1;32m      7\u001b[0m \u001b[38;5;66;03m# Perform two-sample t-test\u001b[39;00m\n\u001b[0;32m----> 8\u001b[0m t_statistic, p_value \u001b[38;5;241m=\u001b[39m \u001b[43mstats\u001b[49m\u001b[38;5;241;43m.\u001b[39;49m\u001b[43mttest_ind\u001b[49m\u001b[43m(\u001b[49m\u001b[43mcontrol_group\u001b[49m\u001b[43m,\u001b[49m\u001b[43m \u001b[49m\u001b[43mexperimental_group\u001b[49m\u001b[43m)\u001b[49m\n\u001b[1;32m     10\u001b[0m alpha \u001b[38;5;241m=\u001b[39m \u001b[38;5;241m0.05\u001b[39m\n\u001b[1;32m     12\u001b[0m \u001b[38;5;28mprint\u001b[39m(\u001b[38;5;124m\"\u001b[39m\u001b[38;5;124mT-statistic:\u001b[39m\u001b[38;5;124m\"\u001b[39m, t_statistic)\n",
      "File \u001b[0;32m/opt/conda/lib/python3.10/site-packages/scipy/stats/_stats_py.py:6587\u001b[0m, in \u001b[0;36mttest_ind\u001b[0;34m(a, b, axis, equal_var, nan_policy, permutations, random_state, alternative, trim)\u001b[0m\n\u001b[1;32m   6584\u001b[0m n2 \u001b[38;5;241m=\u001b[39m b\u001b[38;5;241m.\u001b[39mshape[axis]\n\u001b[1;32m   6586\u001b[0m \u001b[38;5;28;01mif\u001b[39;00m trim \u001b[38;5;241m==\u001b[39m \u001b[38;5;241m0\u001b[39m:\n\u001b[0;32m-> 6587\u001b[0m     v1 \u001b[38;5;241m=\u001b[39m \u001b[43m_var\u001b[49m\u001b[43m(\u001b[49m\u001b[43ma\u001b[49m\u001b[43m,\u001b[49m\u001b[43m \u001b[49m\u001b[43maxis\u001b[49m\u001b[43m,\u001b[49m\u001b[43m \u001b[49m\u001b[43mddof\u001b[49m\u001b[38;5;241;43m=\u001b[39;49m\u001b[38;5;241;43m1\u001b[39;49m\u001b[43m)\u001b[49m\n\u001b[1;32m   6588\u001b[0m     v2 \u001b[38;5;241m=\u001b[39m _var(b, axis, ddof\u001b[38;5;241m=\u001b[39m\u001b[38;5;241m1\u001b[39m)\n\u001b[1;32m   6589\u001b[0m     m1 \u001b[38;5;241m=\u001b[39m np\u001b[38;5;241m.\u001b[39mmean(a, axis)\n",
      "File \u001b[0;32m/opt/conda/lib/python3.10/site-packages/scipy/stats/_stats_py.py:1250\u001b[0m, in \u001b[0;36m_var\u001b[0;34m(x, axis, ddof, mean)\u001b[0m\n\u001b[1;32m   1248\u001b[0m \u001b[38;5;28;01mdef\u001b[39;00m \u001b[38;5;21m_var\u001b[39m(x, axis\u001b[38;5;241m=\u001b[39m\u001b[38;5;241m0\u001b[39m, ddof\u001b[38;5;241m=\u001b[39m\u001b[38;5;241m0\u001b[39m, mean\u001b[38;5;241m=\u001b[39m\u001b[38;5;28;01mNone\u001b[39;00m):\n\u001b[1;32m   1249\u001b[0m     \u001b[38;5;66;03m# Calculate variance of sample, warning if precision is lost\u001b[39;00m\n\u001b[0;32m-> 1250\u001b[0m     var \u001b[38;5;241m=\u001b[39m \u001b[43m_moment\u001b[49m\u001b[43m(\u001b[49m\u001b[43mx\u001b[49m\u001b[43m,\u001b[49m\u001b[43m \u001b[49m\u001b[38;5;241;43m2\u001b[39;49m\u001b[43m,\u001b[49m\u001b[43m \u001b[49m\u001b[43maxis\u001b[49m\u001b[43m,\u001b[49m\u001b[43m \u001b[49m\u001b[43mmean\u001b[49m\u001b[38;5;241;43m=\u001b[39;49m\u001b[43mmean\u001b[49m\u001b[43m)\u001b[49m\n\u001b[1;32m   1251\u001b[0m     \u001b[38;5;28;01mif\u001b[39;00m ddof \u001b[38;5;241m!=\u001b[39m \u001b[38;5;241m0\u001b[39m:\n\u001b[1;32m   1252\u001b[0m         n \u001b[38;5;241m=\u001b[39m x\u001b[38;5;241m.\u001b[39mshape[axis] \u001b[38;5;28;01mif\u001b[39;00m axis \u001b[38;5;129;01mis\u001b[39;00m \u001b[38;5;129;01mnot\u001b[39;00m \u001b[38;5;28;01mNone\u001b[39;00m \u001b[38;5;28;01melse\u001b[39;00m x\u001b[38;5;241m.\u001b[39msize\n",
      "File \u001b[0;32m/opt/conda/lib/python3.10/site-packages/scipy/stats/_stats_py.py:1220\u001b[0m, in \u001b[0;36m_moment\u001b[0;34m(a, moment, axis, mean)\u001b[0m\n\u001b[1;32m   1217\u001b[0m     n_list\u001b[38;5;241m.\u001b[39mappend(current_n)\n\u001b[1;32m   1219\u001b[0m \u001b[38;5;66;03m# Starting point for exponentiation by squares\u001b[39;00m\n\u001b[0;32m-> 1220\u001b[0m mean \u001b[38;5;241m=\u001b[39m \u001b[43ma\u001b[49m\u001b[38;5;241;43m.\u001b[39;49m\u001b[43mmean\u001b[49m\u001b[43m(\u001b[49m\u001b[43maxis\u001b[49m\u001b[43m,\u001b[49m\u001b[43m \u001b[49m\u001b[43mkeepdims\u001b[49m\u001b[38;5;241;43m=\u001b[39;49m\u001b[38;5;28;43;01mTrue\u001b[39;49;00m\u001b[43m)\u001b[49m \u001b[38;5;28;01mif\u001b[39;00m mean \u001b[38;5;129;01mis\u001b[39;00m \u001b[38;5;28;01mNone\u001b[39;00m \u001b[38;5;28;01melse\u001b[39;00m mean\n\u001b[1;32m   1221\u001b[0m a_zero_mean \u001b[38;5;241m=\u001b[39m a \u001b[38;5;241m-\u001b[39m mean\n\u001b[1;32m   1223\u001b[0m eps \u001b[38;5;241m=\u001b[39m np\u001b[38;5;241m.\u001b[39mfinfo(a_zero_mean\u001b[38;5;241m.\u001b[39mdtype)\u001b[38;5;241m.\u001b[39mresolution \u001b[38;5;241m*\u001b[39m \u001b[38;5;241m10\u001b[39m\n",
      "File \u001b[0;32m/opt/conda/lib/python3.10/site-packages/numpy/core/_methods.py:180\u001b[0m, in \u001b[0;36m_mean\u001b[0;34m(a, axis, dtype, out, keepdims, where)\u001b[0m\n\u001b[1;32m    177\u001b[0m         dtype \u001b[38;5;241m=\u001b[39m mu\u001b[38;5;241m.\u001b[39mdtype(\u001b[38;5;124m'\u001b[39m\u001b[38;5;124mf4\u001b[39m\u001b[38;5;124m'\u001b[39m)\n\u001b[1;32m    178\u001b[0m         is_float16_result \u001b[38;5;241m=\u001b[39m \u001b[38;5;28;01mTrue\u001b[39;00m\n\u001b[0;32m--> 180\u001b[0m ret \u001b[38;5;241m=\u001b[39m \u001b[43mumr_sum\u001b[49m\u001b[43m(\u001b[49m\u001b[43marr\u001b[49m\u001b[43m,\u001b[49m\u001b[43m \u001b[49m\u001b[43maxis\u001b[49m\u001b[43m,\u001b[49m\u001b[43m \u001b[49m\u001b[43mdtype\u001b[49m\u001b[43m,\u001b[49m\u001b[43m \u001b[49m\u001b[43mout\u001b[49m\u001b[43m,\u001b[49m\u001b[43m \u001b[49m\u001b[43mkeepdims\u001b[49m\u001b[43m,\u001b[49m\u001b[43m \u001b[49m\u001b[43mwhere\u001b[49m\u001b[38;5;241;43m=\u001b[39;49m\u001b[43mwhere\u001b[49m\u001b[43m)\u001b[49m\n\u001b[1;32m    181\u001b[0m \u001b[38;5;28;01mif\u001b[39;00m \u001b[38;5;28misinstance\u001b[39m(ret, mu\u001b[38;5;241m.\u001b[39mndarray):\n\u001b[1;32m    182\u001b[0m     ret \u001b[38;5;241m=\u001b[39m um\u001b[38;5;241m.\u001b[39mtrue_divide(\n\u001b[1;32m    183\u001b[0m             ret, rcount, out\u001b[38;5;241m=\u001b[39mret, casting\u001b[38;5;241m=\u001b[39m\u001b[38;5;124m'\u001b[39m\u001b[38;5;124munsafe\u001b[39m\u001b[38;5;124m'\u001b[39m, subok\u001b[38;5;241m=\u001b[39m\u001b[38;5;28;01mFalse\u001b[39;00m)\n",
      "\u001b[0;31mTypeError\u001b[0m: unsupported operand type(s) for +: 'int' and 'ellipsis'"
     ]
    }
   ],
   "source": [
    "import scipy.stats as stats\n",
    "\n",
    "# Sample data for control and experimental groups (replace with your data)\n",
    "control_group = [80, 75, 85, 78, 77, ...]\n",
    "experimental_group = [90, 88, 92, 86, 89, ...]\n",
    "\n",
    "# Perform two-sample t-test\n",
    "t_statistic, p_value = stats.ttest_ind(control_group, experimental_group)\n",
    "\n",
    "alpha = 0.05\n",
    "\n",
    "print(\"T-statistic:\", t_statistic)\n",
    "print(\"P-value:\", p_value)\n",
    "\n",
    "if p_value < alpha:\n",
    "    print(\"Reject the null hypothesis: There is a significant difference in test scores between the two groups.\")\n",
    "else:\n",
    "    print(\"Fail to reject the null hypothesis: There is no significant difference in test scores between the two groups.\")\n"
   ]
  },
  {
   "cell_type": "markdown",
   "id": "e5dca73b-5715-429b-92c6-757e6b59fbe5",
   "metadata": {},
   "source": [
    "If the results are significant, you can follow up with a post-hoc test (e.g., Tukey's HSD) to determine which group(s) differ significantly.\n",
    "\n",
    "Q12: To conduct a repeated measures ANOVA in Python for the retail stores scenario, you can use libraries like statsmodels or pingouin. Here's a simplified example using pingouin:"
   ]
  },
  {
   "cell_type": "code",
   "execution_count": 8,
   "id": "f4ebd259-d8ca-47bf-8634-05776e732665",
   "metadata": {},
   "outputs": [
    {
     "ename": "ModuleNotFoundError",
     "evalue": "No module named 'pingouin'",
     "output_type": "error",
     "traceback": [
      "\u001b[0;31m---------------------------------------------------------------------------\u001b[0m",
      "\u001b[0;31mModuleNotFoundError\u001b[0m                       Traceback (most recent call last)",
      "Cell \u001b[0;32mIn[8], line 1\u001b[0m\n\u001b[0;32m----> 1\u001b[0m \u001b[38;5;28;01mimport\u001b[39;00m \u001b[38;5;21;01mpingouin\u001b[39;00m \u001b[38;5;28;01mas\u001b[39;00m \u001b[38;5;21;01mpg\u001b[39;00m\n\u001b[1;32m      3\u001b[0m \u001b[38;5;66;03m# Sample data (replace with your data)\u001b[39;00m\n\u001b[1;32m      4\u001b[0m data \u001b[38;5;241m=\u001b[39m pd\u001b[38;5;241m.\u001b[39mDataFrame({\u001b[38;5;124m'\u001b[39m\u001b[38;5;124mStore\u001b[39m\u001b[38;5;124m'\u001b[39m: [\u001b[38;5;124m'\u001b[39m\u001b[38;5;124mA\u001b[39m\u001b[38;5;124m'\u001b[39m, \u001b[38;5;124m'\u001b[39m\u001b[38;5;124mB\u001b[39m\u001b[38;5;124m'\u001b[39m, \u001b[38;5;124m'\u001b[39m\u001b[38;5;124mC\u001b[39m\u001b[38;5;124m'\u001b[39m] \u001b[38;5;241m*\u001b[39m \u001b[38;5;241m30\u001b[39m,\n\u001b[1;32m      5\u001b[0m                      \u001b[38;5;124m'\u001b[39m\u001b[38;5;124mSales\u001b[39m\u001b[38;5;124m'\u001b[39m: [\u001b[38;5;241m200\u001b[39m, \u001b[38;5;241m190\u001b[39m, \u001b[38;5;241m180\u001b[39m, \u001b[38;5;241m210\u001b[39m, \u001b[38;5;241m205\u001b[39m, \u001b[38;5;241m.\u001b[39m\u001b[38;5;241m.\u001b[39m\u001b[38;5;241m.\u001b[39m]})\n",
      "\u001b[0;31mModuleNotFoundError\u001b[0m: No module named 'pingouin'"
     ]
    }
   ],
   "source": [
    "import pingouin as pg\n",
    "\n",
    "# Sample data (replace with your data)\n",
    "data = pd.DataFrame({'Store': ['A', 'B', 'C'] * 30,\n",
    "                     'Sales': [200, 190, 180, 210, 205, ...]})\n",
    "\n",
    "# Perform repeated measures ANOVA\n",
    "rm_anova = pg.rm_anova(data=data, dv='Sales', within='Store', subject='Subject_ID', detailed=True)\n",
    "\n",
    "print(rm_anova)\n"
   ]
  },
  {
   "cell_type": "markdown",
   "id": "9b76141e-46dc-4516-850f-4bf69e50ec58",
   "metadata": {},
   "source": [
    "Interpret the results by examining the F-statistic, p-value, and effect sizes. If the results are significant, you can follow up with post-hoc tests to determine which store(s) differ significantly."
   ]
  },
  {
   "cell_type": "code",
   "execution_count": 9,
   "id": "5b4b7a2e-50cb-4c02-9f8d-863334b7f573",
   "metadata": {},
   "outputs": [
    {
     "name": "stdout",
     "output_type": "stream",
     "text": [
      "systumm over\n"
     ]
    }
   ],
   "source": [
    "print(\"systumm over\")"
   ]
  },
  {
   "cell_type": "code",
   "execution_count": 10,
   "id": "1fd25cdc-6226-4cb5-b4cd-fe456840197e",
   "metadata": {},
   "outputs": [
    {
     "name": "stdout",
     "output_type": "stream",
     "text": [
      "bye\n"
     ]
    }
   ],
   "source": [
    "print(\"bye\")"
   ]
  },
  {
   "cell_type": "code",
   "execution_count": 11,
   "id": "60befd1e-d7b3-4b79-9229-ede3f22cfe63",
   "metadata": {},
   "outputs": [
    {
     "name": "stdout",
     "output_type": "stream",
     "text": [
      "nooo\n"
     ]
    }
   ],
   "source": [
    "print(\"nooo\")"
   ]
  },
  {
   "cell_type": "code",
   "execution_count": null,
   "id": "359a9159-7405-4978-941c-cbd8d2d052b5",
   "metadata": {},
   "outputs": [],
   "source": []
  }
 ],
 "metadata": {
  "kernelspec": {
   "display_name": "Python 3 (ipykernel)",
   "language": "python",
   "name": "python3"
  },
  "language_info": {
   "codemirror_mode": {
    "name": "ipython",
    "version": 3
   },
   "file_extension": ".py",
   "mimetype": "text/x-python",
   "name": "python",
   "nbconvert_exporter": "python",
   "pygments_lexer": "ipython3",
   "version": "3.10.8"
  }
 },
 "nbformat": 4,
 "nbformat_minor": 5
}
