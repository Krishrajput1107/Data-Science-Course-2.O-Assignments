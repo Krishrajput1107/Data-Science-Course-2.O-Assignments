{
 "cells": [
  {
   "cell_type": "markdown",
   "id": "77d2366d-c3a9-4734-abd9-3ca861b3268d",
   "metadata": {},
   "source": [
    "1.\n",
    "Multithreading in Python allows programs to execute multiple threads concurrently within the same process. It improves efficiency and responsiveness by enabling tasks to run in parallel. Python's built-in threading module is used to handle threads, providing functionalities for creating, starting, synchronizing, and communicating between threads. Multithreading is beneficial for achieving concurrency, parallelism, and handling asynchronous operations in Python programs. It enhances performance, responsiveness, and resource utilization."
   ]
  },
  {
   "cell_type": "markdown",
   "id": "cb35a1fb-1ce7-4bf7-bad4-57138639d51a",
   "metadata": {},
   "source": [
    "2.\n",
    "The threading module in Python is used for handling threads and simplifies the process of working with multithreading. Here is a brief summary of the mentioned functions:\n",
    "\n",
    "activeCount(): Returns the number of currently active threads in the program.\n",
    "\n",
    "currentThread(): Returns the Thread object representing the current thread.\n",
    "\n",
    "enumerate(): Returns a list of all active Thread objects in the program.\n",
    "\n",
    "These functions allow you to retrieve information about the current thread, get the count of active threads, and obtain a list of all running threads. They are helpful for monitoring, debugging, and performing operations on threads."
   ]
  },
  {
   "cell_type": "markdown",
   "id": "49964e99-b421-4022-887c-351d737d84a4",
   "metadata": {},
   "source": [
    "3.\n",
    "Here's an explanation of the functions you mentioned from the threading module:\n",
    "\n",
    "run(): The run() method is the entry point for the thread's activity. When a Thread object's start() method is called, it in turn calls the run() method internally. You can override the run() method in a subclass of Thread to define the code that will be executed when the thread starts. By default, the run() method does nothing.\n",
    "\n",
    "start(): The start() method is used to start the execution of a thread. It creates a new thread of execution and calls the run() method of the thread. The start() method should only be called once on a Thread object. After calling start(), the new thread will run concurrently with the main thread, executing the code defined in the run() method.\n",
    "\n",
    "join(): The join() method blocks the execution of the current thread until the thread on which it's called completes its execution. It's used to synchronize the execution of multiple threads. When a thread calls join() on another thread, it waits until that thread finishes before proceeding. This allows for coordination and ensures that the main thread or any other thread waits for a specific thread to complete its task.\n",
    "\n",
    "isAlive(): The isAlive() method is used to check whether a thread is currently executing or still active. It returns True if the thread is currently running, and False otherwise. This method is useful when you want to check the status of a thread and determine if it has completed its execution."
   ]
  },
  {
   "cell_type": "code",
   "execution_count": 5,
   "id": "b8a2477a-03d8-4b36-b636-c9947df189e8",
   "metadata": {},
   "outputs": [
    {
     "name": "stdout",
     "output_type": "stream",
     "text": [
      "List of squares: [1, 4, 9, 16, 25]\n",
      "List of cubes: [1, 8, 27, 64, 125]\n",
      "Main thread is done.\n"
     ]
    }
   ],
   "source": [
    "#4.\n",
    "import threading\n",
    "\n",
    "def print_squares():\n",
    "    squares = [num ** 2 for num in range(1, 6)]\n",
    "    print(\"List of squares:\", squares)\n",
    "\n",
    "def print_cubes():\n",
    "    cubes = [num ** 3 for num in range(1, 6)]\n",
    "    print(\"List of cubes:\", cubes)\n",
    "\n",
    "thread1 = threading.Thread(target=print_squares)\n",
    "thread2 = threading.Thread(target=print_cubes)\n",
    "\n",
    "thread1.start()\n",
    "thread2.start()\n",
    "\n",
    "thread1.join()\n",
    "thread2.join()\n",
    "\n",
    "print(\"Main thread is done.\")\n"
   ]
  },
  {
   "cell_type": "markdown",
   "id": "5b0719d3-24c5-4376-9b3d-0e7a061d4056",
   "metadata": {},
   "source": [
    "5.\n",
    "The advantages and disadvantages of multithreading:\n",
    "\n",
    "Advantages:\n",
    "\n",
    "1.Improved performance and efficiency, especially for computationally intensive or I/O-bound tasks.\n",
    "2.Enhanced responsiveness and interactivity in applications.\n",
    "3.Resource sharing and efficient communication between threads.\n",
    "4.Parallel execution for tasks that can be divided among threads.\n",
    "\n",
    "Disadvantages:\n",
    "\n",
    "1.Increased complexity and the need for synchronization between threads.\n",
    "2.Difficulties in debugging due to potential race conditions and timing-related issues.\n",
    "3.Increased memory consumption due to additional thread overhead.\n",
    "4.Potential performance trade-offs depending on task parallelizability and synchronization overhead."
   ]
  },
  {
   "cell_type": "markdown",
   "id": "b6978ae6-c4c8-436b-95f8-ecb26986ff6f",
   "metadata": {},
   "source": [
    "6.\n",
    "Deadlocks: Deadlock is a situation where two or more threads are blocked indefinitely, waiting for each other to release resources. It occurs when each thread holds a resource that another thread needs and vice versa, leading to a circular dependency. As a result, the threads cannot progress, causing the program to hang or become unresponsive.\n",
    "\n",
    "Race Conditions: Race conditions occur when multiple threads access shared resources or variables simultaneously, and the final outcome depends on the sequence or timing of their execution. It can lead to unpredictable and undesired results, such as data corruption, incorrect calculations, or inconsistencies, as the threads' execution order is not guaranteed.\n",
    "\n"
   ]
  },
  {
   "cell_type": "code",
   "execution_count": 6,
   "id": "b23c1136-a5a3-471b-b46e-07eebe42642d",
   "metadata": {},
   "outputs": [
    {
     "name": "stdout",
     "output_type": "stream",
     "text": [
      "finished\n"
     ]
    }
   ],
   "source": [
    "print(\"finished\")"
   ]
  },
  {
   "cell_type": "code",
   "execution_count": null,
   "id": "29d26128-63c9-4a4a-b51c-571d5d983d80",
   "metadata": {},
   "outputs": [],
   "source": []
  }
 ],
 "metadata": {
  "kernelspec": {
   "display_name": "Python 3 (ipykernel)",
   "language": "python",
   "name": "python3"
  },
  "language_info": {
   "codemirror_mode": {
    "name": "ipython",
    "version": 3
   },
   "file_extension": ".py",
   "mimetype": "text/x-python",
   "name": "python",
   "nbconvert_exporter": "python",
   "pygments_lexer": "ipython3",
   "version": "3.10.8"
  }
 },
 "nbformat": 4,
 "nbformat_minor": 5
}
