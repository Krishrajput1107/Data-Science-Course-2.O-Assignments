{
 "cells": [
  {
   "cell_type": "code",
   "execution_count": 22,
   "id": "775056cf-ce6c-4d38-ad4a-e96da316c891",
   "metadata": {},
   "outputs": [],
   "source": [
    "#1\n",
    "s=\"krish\"\n",
    "l=[1,2,34,\"krishna\",\"devil\",5.76,True]\n",
    "f=56.323\n",
    "t=(\"hello\",1,2,3,\"go\")"
   ]
  },
  {
   "cell_type": "code",
   "execution_count": 13,
   "id": "930ba9b1-8487-454a-abe1-12b688248cb2",
   "metadata": {},
   "outputs": [
    {
     "data": {
      "text/plain": [
       "str"
      ]
     },
     "execution_count": 13,
     "metadata": {},
     "output_type": "execute_result"
    }
   ],
   "source": [
    "#2\n",
    "var1=''\n",
    "type(var1)"
   ]
  },
  {
   "cell_type": "code",
   "execution_count": 10,
   "id": "9de38fed-4bf8-407c-8336-9817c3e6370b",
   "metadata": {},
   "outputs": [
    {
     "data": {
      "text/plain": [
       "str"
      ]
     },
     "execution_count": 10,
     "metadata": {},
     "output_type": "execute_result"
    }
   ],
   "source": [
    "var2='[DS,ML,Python]'\n",
    "type(var2)"
   ]
  },
  {
   "cell_type": "code",
   "execution_count": 11,
   "id": "44073de8-be92-4acb-99f5-80c4f0ce859c",
   "metadata": {},
   "outputs": [
    {
     "data": {
      "text/plain": [
       "list"
      ]
     },
     "execution_count": 11,
     "metadata": {},
     "output_type": "execute_result"
    }
   ],
   "source": [
    "var3=['DS','ML','Python']\n",
    "type(var3)"
   ]
  },
  {
   "cell_type": "code",
   "execution_count": 12,
   "id": "04bd23e1-4ebf-4cf6-aae5-6ca751b125df",
   "metadata": {},
   "outputs": [
    {
     "data": {
      "text/plain": [
       "float"
      ]
     },
     "execution_count": 12,
     "metadata": {},
     "output_type": "execute_result"
    }
   ],
   "source": [
    "var4=1.\n",
    "type(var4)"
   ]
  },
  {
   "cell_type": "code",
   "execution_count": 18,
   "id": "1d3abdfa-5131-4092-8a9c-a8f2e0628dbf",
   "metadata": {},
   "outputs": [
    {
     "data": {
      "text/plain": [
       "2.5"
      ]
     },
     "execution_count": 18,
     "metadata": {},
     "output_type": "execute_result"
    }
   ],
   "source": [
    "#3\n",
    "# '/' this operator is used to divide any number.example:\n",
    "5/2"
   ]
  },
  {
   "cell_type": "code",
   "execution_count": 17,
   "id": "a7ed881b-6da4-4066-98f6-3a2cad4258d5",
   "metadata": {},
   "outputs": [
    {
     "data": {
      "text/plain": [
       "1"
      ]
     },
     "execution_count": 17,
     "metadata": {},
     "output_type": "execute_result"
    }
   ],
   "source": [
    "# '%' this operator is used to give remainder.example:\n",
    "5%2"
   ]
  },
  {
   "cell_type": "code",
   "execution_count": 19,
   "id": "575af22a-86af-4f5d-9eeb-315b8c93102f",
   "metadata": {},
   "outputs": [
    {
     "data": {
      "text/plain": [
       "2"
      ]
     },
     "execution_count": 19,
     "metadata": {},
     "output_type": "execute_result"
    }
   ],
   "source": [
    "# '//\" this operator is used to give integer division.example:\n",
    "5//2"
   ]
  },
  {
   "cell_type": "code",
   "execution_count": 20,
   "id": "b265011e-122a-495b-9688-eb6b10409249",
   "metadata": {},
   "outputs": [
    {
     "data": {
      "text/plain": [
       "25"
      ]
     },
     "execution_count": 20,
     "metadata": {},
     "output_type": "execute_result"
    }
   ],
   "source": [
    "# '**' this operator is used to give power to any number.example:\n",
    "5**2"
   ]
  },
  {
   "cell_type": "code",
   "execution_count": 21,
   "id": "77bdd34d-0690-40dd-bf1c-b7a52ef8d4ac",
   "metadata": {},
   "outputs": [],
   "source": [
    "# I have taken same examples so that it can be easy to understand"
   ]
  },
  {
   "cell_type": "code",
   "execution_count": 24,
   "id": "a21fe7b2-4b9e-4eec-bb0f-714a0450056e",
   "metadata": {},
   "outputs": [
    {
     "name": "stdout",
     "output_type": "stream",
     "text": [
      "1\n",
      "<class 'int'>\n",
      "2\n",
      "<class 'int'>\n",
      "3\n",
      "<class 'int'>\n",
      "krish\n",
      "<class 'str'>\n",
      "learning\n",
      "<class 'str'>\n",
      "True\n",
      "<class 'bool'>\n",
      "56.75\n",
      "<class 'float'>\n",
      "8\n",
      "<class 'int'>\n",
      "24.59\n",
      "<class 'float'>\n",
      "False\n",
      "<class 'bool'>\n"
     ]
    }
   ],
   "source": [
    "#4\n",
    "l=[1,2,3,\"krish\",\"learning\",True,56.75,8,24.59,False]\n",
    "for i in l:\n",
    "   print(i)\n",
    "   print(type(i))"
   ]
  },
  {
   "cell_type": "code",
   "execution_count": 29,
   "id": "dc07fe3c-550e-42b1-ab55-4004c11b2a02",
   "metadata": {},
   "outputs": [
    {
     "name": "stdin",
     "output_type": "stream",
     "text": [
      "Enter the value of A:  125\n",
      "Enter the value of B:  5\n"
     ]
    },
    {
     "name": "stdout",
     "output_type": "stream",
     "text": [
      "A is divisible by B and can be divided 3 times.\n"
     ]
    }
   ],
   "source": [
    "#5\n",
    "A = int(input(\"Enter the value of A: \"))\n",
    "B = int(input(\"Enter the value of B: \"))\n",
    "\n",
    "count = 0\n",
    "while A >= B:\n",
    "    if A % B == 0:\n",
    "        A /= B\n",
    "        count += 1\n",
    "    else:\n",
    "        break\n",
    "\n",
    "if count >= 1:\n",
    "    print(f\"A is divisible by B and can be divided {count} times.\")\n",
    "else:\n",
    "    print(\"A is not divisible by B.\")"
   ]
  },
  {
   "cell_type": "code",
   "execution_count": 33,
   "id": "f03f947f-7cfd-44f3-990c-1a001c70abb4",
   "metadata": {},
   "outputs": [
    {
     "name": "stdout",
     "output_type": "stream",
     "text": [
      "1\n",
      "element is not divisible by 3\n",
      "2\n",
      "element is not divisible by 3\n",
      "3\n",
      "element is divible by 3\n",
      "4\n",
      "element is not divisible by 3\n",
      "5\n",
      "element is not divisible by 3\n",
      "6\n",
      "element is divible by 3\n",
      "7\n",
      "element is not divisible by 3\n",
      "8\n",
      "element is not divisible by 3\n",
      "9\n",
      "element is divible by 3\n",
      "10\n",
      "element is not divisible by 3\n",
      "11\n",
      "element is not divisible by 3\n",
      "12\n",
      "element is divible by 3\n",
      "13\n",
      "element is not divisible by 3\n",
      "14\n",
      "element is not divisible by 3\n",
      "15\n",
      "element is divible by 3\n",
      "16\n",
      "element is not divisible by 3\n",
      "17\n",
      "element is not divisible by 3\n",
      "18\n",
      "element is divible by 3\n",
      "19\n",
      "element is not divisible by 3\n",
      "20\n",
      "element is not divisible by 3\n",
      "21\n",
      "element is divible by 3\n",
      "22\n",
      "element is not divisible by 3\n",
      "23\n",
      "element is not divisible by 3\n",
      "24\n",
      "element is divible by 3\n",
      "25\n",
      "element is not divisible by 3\n"
     ]
    }
   ],
   "source": [
    "#6\n",
    "l=[1,2,3,4,5,6,7,8,9,10,11,12,13,14,15,16,17,18,19,20,21,22,23,24,25]\n",
    "for i in l:\n",
    "    if i%3==0:\n",
    "        print(i)\n",
    "        print(\"element is divible by 3\")\n",
    "    else:\n",
    "        print(i)\n",
    "        print(\"element is not divisible by 3\")"
   ]
  },
  {
   "cell_type": "code",
   "execution_count": 34,
   "id": "b38ae484-759d-4443-a1d0-1b69e97f96f6",
   "metadata": {},
   "outputs": [
    {
     "data": {
      "text/plain": [
       "[1, 2, 3, 'dev', 'sky', 56.33, 34.7, False]"
      ]
     },
     "execution_count": 34,
     "metadata": {},
     "output_type": "execute_result"
    }
   ],
   "source": [
    "#7\n",
    "#Mutable data types- The data types in whic we can chage the value at a given position.Example-List is Mutable data  type\n",
    "l=[1,2,3,\"dev\",\"sky\",56.33,34.7,False]\n",
    "l"
   ]
  },
  {
   "cell_type": "code",
   "execution_count": 35,
   "id": "5de6d10e-08ca-437c-a900-77d9cd537c7b",
   "metadata": {},
   "outputs": [],
   "source": [
    "l[4]=\"datascience\""
   ]
  },
  {
   "cell_type": "code",
   "execution_count": 36,
   "id": "12039dd4-d739-42d9-8e94-eb94e66d7e67",
   "metadata": {},
   "outputs": [
    {
     "data": {
      "text/plain": [
       "[1, 2, 3, 'dev', 'datascience', 56.33, 34.7, False]"
      ]
     },
     "execution_count": 36,
     "metadata": {},
     "output_type": "execute_result"
    }
   ],
   "source": [
    "l"
   ]
  },
  {
   "cell_type": "code",
   "execution_count": 37,
   "id": "c9d764de-32f6-47a1-8272-73158066dc7a",
   "metadata": {},
   "outputs": [
    {
     "data": {
      "text/plain": [
       "'Rocket'"
      ]
     },
     "execution_count": 37,
     "metadata": {},
     "output_type": "execute_result"
    }
   ],
   "source": [
    "#Immutable data types- The data types in which we cannot change the value at a given position.Example-String is immutable\n",
    "s=\"Rocket\"\n",
    "s"
   ]
  },
  {
   "cell_type": "code",
   "execution_count": 38,
   "id": "c3d349bc-8069-4994-867f-7b7fc94cbf0b",
   "metadata": {},
   "outputs": [
    {
     "ename": "TypeError",
     "evalue": "'str' object does not support item assignment",
     "output_type": "error",
     "traceback": [
      "\u001b[0;31m---------------------------------------------------------------------------\u001b[0m",
      "\u001b[0;31mTypeError\u001b[0m                                 Traceback (most recent call last)",
      "Cell \u001b[0;32mIn[38], line 1\u001b[0m\n\u001b[0;32m----> 1\u001b[0m \u001b[43ms\u001b[49m\u001b[43m[\u001b[49m\u001b[38;5;241;43m4\u001b[39;49m\u001b[43m]\u001b[49m\u001b[38;5;241m=\u001b[39m\u001b[38;5;124m'\u001b[39m\u001b[38;5;124mj\u001b[39m\u001b[38;5;124m'\u001b[39m\n",
      "\u001b[0;31mTypeError\u001b[0m: 'str' object does not support item assignment"
     ]
    }
   ],
   "source": [
    "s[4]='j'"
   ]
  },
  {
   "cell_type": "code",
   "execution_count": 39,
   "id": "8054c336-a8e5-449a-9e0c-fea861b73bb2",
   "metadata": {},
   "outputs": [
    {
     "data": {
      "text/plain": [
       "'Rocket'"
      ]
     },
     "execution_count": 39,
     "metadata": {},
     "output_type": "execute_result"
    }
   ],
   "source": [
    "s"
   ]
  },
  {
   "cell_type": "code",
   "execution_count": null,
   "id": "0eabde68-0b1a-494b-bfa3-b970f03ad527",
   "metadata": {},
   "outputs": [],
   "source": []
  }
 ],
 "metadata": {
  "kernelspec": {
   "display_name": "Python 3 (ipykernel)",
   "language": "python",
   "name": "python3"
  },
  "language_info": {
   "codemirror_mode": {
    "name": "ipython",
    "version": 3
   },
   "file_extension": ".py",
   "mimetype": "text/x-python",
   "name": "python",
   "nbconvert_exporter": "python",
   "pygments_lexer": "ipython3",
   "version": "3.10.8"
  }
 },
 "nbformat": 4,
 "nbformat_minor": 5
}
