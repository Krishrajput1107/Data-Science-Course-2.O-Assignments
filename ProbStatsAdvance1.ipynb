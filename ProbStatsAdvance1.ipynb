{
 "cells": [
  {
   "cell_type": "markdown",
   "id": "91451dce-d071-4555-aff7-486e0bc2199e",
   "metadata": {},
   "source": [
    "1.Probability Density Function (PDF): The Probability Density Function is a statistical function that describes the likelihood of a continuous random variable taking on a specific value. It is used in continuous probability distributions and provides the probability of a random variable falling within a certain range. In mathematical notation, it's often denoted as f(x), where x is the random variable, and the integral of the PDF over a range gives the probability of the random variable falling within that range.\n",
    "\n",
    "2.Types of Probability Distributions: There are several types of probability distributions used in statistics, including:\n",
    "\n",
    "Normal Distribution,\n",
    "Binomial Distribution,\n",
    "Poisson Distribution,\n",
    "Exponential Distribution,\n",
    "Uniform Distribution,\n",
    "Gamma Distribution,\n",
    "Bernoulli Distribution,\n",
    "Geometric Distribution,\n",
    "and many others, depending on the characteristics of the data being analyzed.\n",
    "\n",
    "3.Python function to calculate the PDF of a normal distribution:"
   ]
  },
  {
   "cell_type": "code",
   "execution_count": 2,
   "id": "00e6ee19-db05-42f1-ba4b-97a2a8acbe13",
   "metadata": {},
   "outputs": [],
   "source": [
    "import numpy as np\n",
    "import scipy.stats as stats\n",
    "\n",
    "def calculate_normal_pdf(x, mean, std_dev):\n",
    "    \"\"\"\n",
    "    Calculate the probability density function (PDF) of a normal distribution\n",
    "    at a given point x.\n",
    "\n",
    "    Parameters:\n",
    "    x (float): The point at which to calculate the PDF.\n",
    "    mean (float): Mean of the normal distribution.\n",
    "    std_dev (float): Standard deviation of the normal distribution.\n",
    "\n",
    "    Returns:\n",
    "    pdf (float): The PDF value at the given point x.\n",
    "    \"\"\"\n",
    "    pdf = stats.norm.pdf(x, loc=mean, scale=std_dev)\n",
    "    return pdf\n"
   ]
  },
  {
   "cell_type": "markdown",
   "id": "89061399-f5e8-49ea-b553-a075ef926498",
   "metadata": {},
   "source": [
    "4.Properties of Binomial Distribution:\n",
    "\n",
    "It models the number of successes (k) in a fixed number of independent trials (n).\n",
    "Each trial has two possible outcomes: success or failure.\n",
    "The probability of success (p) remains constant for each trial.\n",
    "Trials are independent of each other.\n",
    "Examples of events where binomial distribution can be applied:\n",
    "\n",
    "Tossing a fair coin multiple times and counting the number of heads.\n",
    "\n",
    "Determining the number of defective items in a production batch with a known defect rate.\n",
    "\n",
    "\n",
    "5.Generating a random sample from a binomial distribution in Python and plotting a histogram using Matplotlib:Generating a random sample from a binomial distribution in Python and plotting a histogram using Matplotlib:"
   ]
  },
  {
   "cell_type": "code",
   "execution_count": 4,
   "id": "0225ebbf-6033-41ac-8321-d7a9156a2e31",
   "metadata": {},
   "outputs": [
    {
     "data": {
      "image/png": "[encoded data removed]",
      "text/plain": [
       "<Figure size 640x480 with 1 Axes>"
      ]
     },
     "metadata": {},
     "output_type": "display_data"
    }
   ],
   "source": [
    "import numpy as np\n",
    "import matplotlib.pyplot as plt\n",
    "\n",
    "# Generate a random sample of size 1000 from a binomial distribution\n",
    "sample = np.random.binomial(n=1, p=0.4, size=1000)\n",
    "\n",
    "# Plot a histogram of the results\n",
    "plt.hist(sample, bins=2, edgecolor='k')\n",
    "plt.xlabel('Number of Successes')\n",
    "plt.ylabel('Frequency')\n",
    "plt.title('Binomial Distribution Histogram')\n",
    "plt.show()\n"
   ]
  },
  {
   "cell_type": "markdown",
   "id": "cc2cd301-a46e-4e67-b8a0-8acee8d4caba",
   "metadata": {},
   "source": [
    "6.Python function to calculate the cumulative distribution function (CDF) of a Poisson distribution:"
   ]
  },
  {
   "cell_type": "code",
   "execution_count": 5,
   "id": "493d4bab-1122-450d-9969-c9249f7cc360",
   "metadata": {},
   "outputs": [],
   "source": [
    "import scipy.stats as stats\n",
    "\n",
    "def calculate_poisson_cdf(k, mean):\n",
    "    \"\"\"\n",
    "    Calculate the cumulative distribution function (CDF) of a Poisson distribution\n",
    "    at a given point k.\n",
    "\n",
    "    Parameters:\n",
    "    k (int): The point at which to calculate the CDF.\n",
    "    mean (float): Mean of the Poisson distribution.\n",
    "\n",
    "    Returns:\n",
    "    cdf (float): The CDF value at the given point k.\n",
    "    \"\"\"\n",
    "    cdf = stats.poisson.cdf(k, mu=mean)\n",
    "    return cdf\n"
   ]
  },
  {
   "cell_type": "markdown",
   "id": "b714e3f0-fd5f-491b-8ef6-07046429fa45",
   "metadata": {},
   "source": [
    "7.Difference between Binomial and Poisson Distribution:\n",
    "\n",
    "Binomial Distribution is used for a fixed number of trials with two possible outcomes (success or failure) and a constant probability of success (p).\n",
    "Poisson Distribution is used for modeling the number of rare events occurring in a fixed interval of time or space, where the average rate of occurrence (λ) is known.\n",
    "\n",
    "\n",
    "8.Generating a random sample from a Poisson distribution in Python and calculating the sample mean and variance:"
   ]
  },
  {
   "cell_type": "code",
   "execution_count": 6,
   "id": "44450ec2-20c8-4543-93b7-96252a00ff24",
   "metadata": {},
   "outputs": [
    {
     "name": "stdout",
     "output_type": "stream",
     "text": [
      "Sample Mean: 5.026\n",
      "Sample Variance: 5.043324\n"
     ]
    }
   ],
   "source": [
    "import numpy as np\n",
    "\n",
    "# Generate a random sample of size 1000 from a Poisson distribution\n",
    "sample = np.random.poisson(lam=5, size=1000)\n",
    "\n",
    "# Calculate sample mean and variance\n",
    "sample_mean = np.mean(sample)\n",
    "sample_variance = np.var(sample)\n",
    "\n",
    "print(\"Sample Mean:\", sample_mean)\n",
    "print(\"Sample Variance:\", sample_variance)\n"
   ]
  },
  {
   "cell_type": "code",
   "execution_count": null,
   "id": "d4d3c249-ae44-4935-9577-558b0d0fed9e",
   "metadata": {},
   "outputs": [],
   "source": [
    "9.Mean and Variance in Binomial and Poisson Distributions:\n",
    "\n",
    "In a Binomial Distribution, the mean (μ) is equal to n * p, and the variance (σ^2) is equal to n * p * (1 - p), where n is the number of trials and p is the probability of success.\n",
    "In a Poisson Distribution, both the mean (λ) and the variance (σ^2) are equal to λ, which is the average rate of occurrence.\n",
    "In a normal distribution, the least frequent data appears farthest from the mean. This is often referred to as the \"tails\" of the distribution. In a standard normal distribution (mean=0, standard deviation=1), the least frequent data appears in the extreme tails, both on the left (negative values) and on the right (positive values) of the mean.\n",
    "\n",
    "\n",
    "\n",
    "\n"
   ]
  }
 ],
 "metadata": {
  "kernelspec": {
   "display_name": "Python 3 (ipykernel)",
   "language": "python",
   "name": "python3"
  },
  "language_info": {
   "codemirror_mode": {
    "name": "ipython",
    "version": 3
   },
   "file_extension": ".py",
   "mimetype": "text/x-python",
   "name": "python",
   "nbconvert_exporter": "python",
   "pygments_lexer": "ipython3",
   "version": "3.10.8"
  }
 },
 "nbformat": 4,
 "nbformat_minor": 5
}
