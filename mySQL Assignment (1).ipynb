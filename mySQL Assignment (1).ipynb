{
 "cells": [
  {
   "cell_type": "markdown",
   "id": "30c21c91-07a1-4337-b98e-076e6394860e",
   "metadata": {},
   "source": [
    "1.A database is a structured collection of data used to efficiently store, retrieve, modify, and manage information. There are two main types of databases: SQL and NoSQL databases. SQL databases are relational databases that store data in structured tables with predefined schemas, where relationships between tables are defined using keys. They ensure data integrity and consistency through ACID properties, making them suitable for applications with well-defined data relationships and transactional needs. On the other hand, NoSQL databases are non-relational and offer more flexibility in data models, storing data in various formats like key-value pairs, documents, columns, or graphs. They sacrifice ACID properties to achieve greater scalability and performance, making them ideal for handling large-scale, dynamic data in real-time web applications or projects with evolving data requirements. The choice between SQL and NoSQL databases depends on the specific characteristics and needs of the application being developed."
   ]
  },
  {
   "cell_type": "markdown",
   "id": "b58cf10c-5061-4619-81dd-831a86b66aec",
   "metadata": {},
   "source": [
    "2.DDL (Data Definition Language) is a subset of SQL used to define and manage the structure of a database. It includes commands such as CREATE (for creating new objects like tables), DROP (for deleting objects), ALTER (for modifying objects), and TRUNCATE (for removing all data from a table). For example, CREATE is used to create tables with specified columns and data types, DROP deletes existing objects, ALTER modifies the structure of an object, and TRUNCATE removes all data from a table while keeping its structure. These DDL commands are essential for maintaining a well-organized and efficient database schema."
   ]
  },
  {
   "cell_type": "markdown",
   "id": "3ccedc6c-2368-4ba8-b7ce-e791506352fd",
   "metadata": {},
   "source": [
    "3.DML (Data Manipulation Language) is a subset of SQL used to manipulate data in a database. It includes three primary commands: INSERT (to add new records), UPDATE (to modify existing records), and DELETE (to remove unwanted records). For example, INSERT adds new data, UPDATE modifies existing data based on conditions, and DELETE removes specific data based on conditions. DML commands enable efficient data management and maintenance within database tables."
   ]
  },
  {
   "cell_type": "markdown",
   "id": "3348805a-a979-4fe2-b332-b4b38688db24",
   "metadata": {},
   "source": [
    "4.DQL (Data Query Language) is a subset of SQL used to retrieve data from a database. The primary command in DQL is SELECT, which allows you to query and fetch data from one or more database tables based on specified conditions. For example, the SELECT command retrieves specific columns from a table based on the given conditions. It plays a crucial role in extracting and presenting relevant information from the database for users or applications."
   ]
  },
  {
   "cell_type": "markdown",
   "id": "e103ed1b-5591-4a4d-bfe3-f00c18b338e0",
   "metadata": {},
   "source": [
    "5.Primary Key:\n",
    "\n",
    "A Primary Key is a unique and non-null identifier for each row in a database table.\n",
    "It ensures the uniqueness and integrity of data in the table.\n",
    "Each table can have only one Primary Key, and it cannot contain duplicate or NULL values.\n",
    "It is used to uniquely identify records in the table.\n",
    "\n",
    "Foreign Key:\n",
    "\n",
    "A Foreign Key is a column or a set of columns in a table that refers to the Primary Key of another table.\n",
    "It establishes a relationship between two tables, creating a link between the data in both tables.\n",
    "It ensures referential integrity, meaning that the values in the Foreign Key column must correspond to existing values in the Primary Key column of the referenced table.\n",
    "Multiple Foreign Keys can exist in a table, allowing it to connect to multiple related tables."
   ]
  },
  {
   "cell_type": "code",
   "execution_count": 1,
   "id": "1e576ce3-193a-421f-969a-01271d7e25eb",
   "metadata": {},
   "outputs": [
    {
     "name": "stdout",
     "output_type": "stream",
     "text": [
      "Collecting mysql-connector-python\n",
      "  Downloading mysql_connector_python-8.1.0-cp310-cp310-manylinux_2_17_x86_64.whl (27.5 MB)\n",
      "\u001b[2K     \u001b[90m━━━━━━━━━━━━━━━━━━━━━━━━━━━━━━━━━━━━━━━━\u001b[0m \u001b[32m27.5/27.5 MB\u001b[0m \u001b[31m50.4 MB/s\u001b[0m eta \u001b[36m0:00:00\u001b[0m00:01\u001b[0m00:01\u001b[0m\n",
      "\u001b[?25hRequirement already satisfied: protobuf<=4.21.12,>=4.21.1 in /opt/conda/lib/python3.10/site-packages (from mysql-connector-python) (4.21.11)\n",
      "Installing collected packages: mysql-connector-python\n",
      "Successfully installed mysql-connector-python-8.1.0\n",
      "Note: you may need to restart the kernel to use updated packages.\n"
     ]
    }
   ],
   "source": [
    "pip install mysql-connector-python\n"
   ]
  },
  {
   "cell_type": "code",
   "execution_count": 3,
   "id": "5acf2897-ab20-461e-9131-35be039951ef",
   "metadata": {},
   "outputs": [
    {
     "name": "stdout",
     "output_type": "stream",
     "text": [
      "Error:  2005 (HY000): Unknown MySQL server host 'your_mysql_host' (-3)\n"
     ]
    },
    {
     "ename": "NameError",
     "evalue": "name 'cursor' is not defined",
     "output_type": "error",
     "traceback": [
      "\u001b[0;31m---------------------------------------------------------------------------\u001b[0m",
      "\u001b[0;31mNameError\u001b[0m                                 Traceback (most recent call last)",
      "Cell \u001b[0;32mIn[3], line 24\u001b[0m\n\u001b[1;32m     21\u001b[0m     \u001b[38;5;28mprint\u001b[39m(\u001b[38;5;124m\"\u001b[39m\u001b[38;5;124mError: \u001b[39m\u001b[38;5;124m\"\u001b[39m, err)\n\u001b[1;32m     23\u001b[0m \u001b[38;5;28;01mfinally\u001b[39;00m:\n\u001b[0;32m---> 24\u001b[0m     \u001b[38;5;28;01mif\u001b[39;00m \u001b[43mcursor\u001b[49m:\n\u001b[1;32m     25\u001b[0m         cursor\u001b[38;5;241m.\u001b[39mclose()\n\u001b[1;32m     26\u001b[0m     \u001b[38;5;28;01mif\u001b[39;00m connection \u001b[38;5;129;01mand\u001b[39;00m connection\u001b[38;5;241m.\u001b[39mis_connected():\n",
      "\u001b[0;31mNameError\u001b[0m: name 'cursor' is not defined"
     ]
    }
   ],
   "source": [
    "#6.\n",
    "import mysql.connector\n",
    "\n",
    "try:\n",
    "    connection = mysql.connector.connect(\n",
    "        host='your_mysql_host',\n",
    "        user='your_mysql_user',\n",
    "        password='your_mysql_password',\n",
    "        database='your_mysql_database'\n",
    "    )\n",
    "\n",
    "    cursor = connection.cursor()\n",
    "\n",
    "    cursor.execute(\"SELECT * FROM employees\")\n",
    "\n",
    "    result = cursor.fetchall()\n",
    "    for row in result:\n",
    "        print(row)\n",
    "\n",
    "except mysql.connector.Error as err:\n",
    "    print(\"Error: \", err)\n",
    "\n",
    "finally:\n",
    "    if cursor:\n",
    "        cursor.close()\n",
    "    if connection and connection.is_connected():\n",
    "        connection.close()\n"
   ]
  },
  {
   "cell_type": "markdown",
   "id": "b5c7b7a7-653c-4ae7-9686-2f6744dccd3a",
   "metadata": {},
   "source": [
    "cursor():\n",
    "The cursor() method creates a cursor object to interact with the database. It acts as a pointer to rows in the result set. The cursor is used to execute SQL queries and fetch data from the database.\n",
    "\n",
    "execute():\n",
    "The execute() method is used to execute SQL queries through the cursor. It takes the SQL query as a parameter and sends it to the database for execution. The result (if any) can be fetched using methods like fetchone(), fetchall(), etc."
   ]
  },
  {
   "cell_type": "markdown",
   "id": "eeda5f4e-4a90-4aae-9cc7-435632f8b3c5",
   "metadata": {},
   "source": [
    "\n",
    "7.The order of execution of SQL clauses in an SQL query is as follows:\n",
    "\n",
    "1. **SELECT:** Specifies the columns or expressions to retrieve from the database.\n",
    "2. **FROM:** Specifies the table or tables from which the data will be retrieved.\n",
    "3. **WHERE:** Filters the data based on specified conditions.\n",
    "4. **GROUP BY:** Groups the results based on specified columns.\n",
    "5. **HAVING:** Filters the grouped data based on specific conditions.\n",
    "6. **ORDER BY:** Sorts the results based on specified columns and sorting orders."
   ]
  },
  {
   "cell_type": "code",
   "execution_count": 4,
   "id": "4965cb0b-505b-4d44-a0e0-09ef5bdd4c09",
   "metadata": {},
   "outputs": [
    {
     "name": "stdout",
     "output_type": "stream",
     "text": [
      "finished\n"
     ]
    }
   ],
   "source": [
    "print(\"finished\")"
   ]
  },
  {
   "cell_type": "code",
   "execution_count": null,
   "id": "41375bb1-8982-47dd-9689-b8a60ca5281d",
   "metadata": {},
   "outputs": [],
   "source": []
  }
 ],
 "metadata": {
  "kernelspec": {
   "display_name": "Python 3 (ipykernel)",
   "language": "python",
   "name": "python3"
  },
  "language_info": {
   "codemirror_mode": {
    "name": "ipython",
    "version": 3
   },
   "file_extension": ".py",
   "mimetype": "text/x-python",
   "name": "python",
   "nbconvert_exporter": "python",
   "pygments_lexer": "ipython3",
   "version": "3.10.8"
  }
 },
 "nbformat": 4,
 "nbformat_minor": 5
}
